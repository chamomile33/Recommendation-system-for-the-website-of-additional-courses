{
  "cells": [
    {
      "attachments": {},
      "cell_type": "markdown",
      "metadata": {},
      "source": [
        "## Предобработка признаков курсов"
      ]
    },
    {
      "cell_type": "code",
      "execution_count": 166,
      "metadata": {
        "id": "_svSV4Hll_F6"
      },
      "outputs": [],
      "source": [
        "import pandas as pd\n",
        "import json\n",
        "import numpy as np\n",
        "import re\n",
        "import gensim\n",
        "import nltk \n",
        "from nltk.tokenize import sent_tokenize,word_tokenize\n",
        "from nltk.corpus import stopwords\n",
        "import pymorphy2\n",
        "from gensim.models import Word2Vec\n",
        "import spacy\n",
        "import ru_core_news_md\n",
        "from sklearn.feature_extraction.text import TfidfVectorizer\n",
        "import gensim.downloader as download_api"
      ]
    },
    {
      "cell_type": "code",
      "execution_count": 103,
      "metadata": {
        "id": "iLccqTrRmCiI"
      },
      "outputs": [],
      "source": [
        "with open('./hse_dpo_portal_data.json') as json_file:\n",
        "    courses_features = pd.DataFrame(json.load(json_file)['data'])"
      ]
    },
    {
      "cell_type": "code",
      "execution_count": 104,
      "metadata": {},
      "outputs": [],
      "source": [
        "df = pd.read_csv('./data_t_row_6m.csv')"
      ]
    },
    {
      "attachments": {},
      "cell_type": "markdown",
      "metadata": {
        "id": "8VV8a7gztaAy"
      },
      "source": [
        "Посмотрим сколько пропусков в столбцах"
      ]
    },
    {
      "cell_type": "code",
      "execution_count": 105,
      "metadata": {
        "colab": {
          "base_uri": "https://localhost:8080/"
        },
        "id": "ZhqXs9XrtToP",
        "outputId": "2af7de28-2de8-4a86-f232-98d5f5436b34"
      },
      "outputs": [
        {
          "data": {
            "text/plain": [
              "id                                 0\n",
              "url                                0\n",
              "title                              0\n",
              "description                        6\n",
              "duration                           6\n",
              "type                               0\n",
              "study_format                       4\n",
              "org_unit_id                        3\n",
              "org_unit_title                     3\n",
              "external_application_form_url    235\n",
              "application_form_url               0\n",
              "external_ask_form_url            276\n",
              "ask_form_url                       0\n",
              "related_programs                 329\n",
              "dtype: int64"
            ]
          },
          "execution_count": 105,
          "metadata": {},
          "output_type": "execute_result"
        }
      ],
      "source": [
        "courses_features.isna().sum()"
      ]
    },
    {
      "attachments": {},
      "cell_type": "markdown",
      "metadata": {},
      "source": [
        "Посмотрим, есть ли дубликаты"
      ]
    },
    {
      "cell_type": "code",
      "execution_count": 106,
      "metadata": {},
      "outputs": [
        {
          "data": {
            "text/plain": [
              "0"
            ]
          },
          "execution_count": 106,
          "metadata": {},
          "output_type": "execute_result"
        }
      ],
      "source": [
        "courses_features.drop(['related_programs'],axis = 1).duplicated().sum()"
      ]
    },
    {
      "attachments": {},
      "cell_type": "markdown",
      "metadata": {
        "id": "s1Mq1eNauH4J"
      },
      "source": [
        "Работа со столбцом duration"
      ]
    },
    {
      "cell_type": "code",
      "execution_count": 107,
      "metadata": {
        "colab": {
          "base_uri": "https://localhost:8080/"
        },
        "id": "i9zabHNBmneQ",
        "outputId": "b894e48d-8ee5-4048-b5f1-521c4f52ffcc"
      },
      "outputs": [
        {
          "data": {
            "text/plain": [
              "array(['3 недели', '13 месяцев', '6 месяцев', '26 недель', '4 недели',\n",
              "       '8 недель', '2 месяца', '10 недель', '12 месяцев', '19 недель',\n",
              "       '8 месяцев', '7 недель', '4 месяца', '1 неделя', '3 дня', '6 дней',\n",
              "       '12 недель', '8 дней', '17 дней', '9 дней', '9 недель', '6 недель',\n",
              "       '9.5 недель', '9 месяцев', '5 недель', '24 месяца', '7 месяцев',\n",
              "       '3 месяца', '5 дней', '2 недели', '10 дней', '4 дня', '7 дней',\n",
              "       None, '4.5 месяца', '18 месяцев', '35 недель', '2 дня',\n",
              "       '13 недель', '12 дней', '26 дней', '1 месяц', '5 месяцев',\n",
              "       '15 недель', '66 дней', '16 месяцев', '14 месяцев', '11 месяцев',\n",
              "       '10 месяцев', '13 дней', '15 месяцев', '1.5 месяц', '2.5 недели',\n",
              "       '19 месяцев', '33 недели', '2.5 месяца', '41 неделя', '17 месяцев',\n",
              "       '22 недели', '18 недель', '25 недель', '11 дней', '20 дней',\n",
              "       '17 недель', '40 недель', '14 недель'], dtype=object)"
            ]
          },
          "execution_count": 107,
          "metadata": {},
          "output_type": "execute_result"
        }
      ],
      "source": [
        "courses_features.duration.unique()"
      ]
    },
    {
      "cell_type": "code",
      "execution_count": 108,
      "metadata": {
        "id": "tVeq_2sso_O7"
      },
      "outputs": [],
      "source": [
        "duration_str = ['дн','недел','месяц','год','лет']\n",
        "duration_convert_coef = [1, 7, 30, 365, 365]\n",
        "\n",
        "def convert_to_days(duration):\n",
        "    if duration == None:\n",
        "        return np.NaN\n",
        "    duration_value, duration_type = duration.split()\n",
        "    duration_value = float(duration_value)\n",
        "    duration_value = sum([(duration_str[i] in duration_type) * duration_value * duration_convert_coef[i] for i in range(len(duration_str))])\n",
        "    return duration_value\n",
        "\n",
        "courses_features['duration_days'] = courses_features['duration'].apply(convert_to_days)"
      ]
    },
    {
      "cell_type": "code",
      "execution_count": 109,
      "metadata": {
        "colab": {
          "base_uri": "https://localhost:8080/",
          "height": 631
        },
        "id": "1H7qIV45qzxV",
        "outputId": "a07adf5e-8d9d-472f-b051-d58f39c9901a"
      },
      "outputs": [
        {
          "data": {
            "text/html": [
              "<div>\n",
              "<style scoped>\n",
              "    .dataframe tbody tr th:only-of-type {\n",
              "        vertical-align: middle;\n",
              "    }\n",
              "\n",
              "    .dataframe tbody tr th {\n",
              "        vertical-align: top;\n",
              "    }\n",
              "\n",
              "    .dataframe thead th {\n",
              "        text-align: right;\n",
              "    }\n",
              "</style>\n",
              "<table border=\"1\" class=\"dataframe\">\n",
              "  <thead>\n",
              "    <tr style=\"text-align: right;\">\n",
              "      <th></th>\n",
              "      <th>id</th>\n",
              "      <th>url</th>\n",
              "      <th>title</th>\n",
              "      <th>description</th>\n",
              "      <th>duration</th>\n",
              "      <th>type</th>\n",
              "      <th>study_format</th>\n",
              "      <th>org_unit_id</th>\n",
              "      <th>org_unit_title</th>\n",
              "      <th>external_application_form_url</th>\n",
              "      <th>application_form_url</th>\n",
              "      <th>external_ask_form_url</th>\n",
              "      <th>ask_form_url</th>\n",
              "      <th>related_programs</th>\n",
              "      <th>duration_days</th>\n",
              "    </tr>\n",
              "  </thead>\n",
              "  <tbody>\n",
              "    <tr>\n",
              "      <th>101</th>\n",
              "      <td>486202666</td>\n",
              "      <td>https://www.hse.ru/edu/dpo/486202666</td>\n",
              "      <td>Режиссура кино, телевидения и цифровых медиапр...</td>\n",
              "      <td>Вы будете учиться у мастера курса – режиссера ...</td>\n",
              "      <td>None</td>\n",
              "      <td>Профессиональная переподготовка</td>\n",
              "      <td>Очный</td>\n",
              "      <td>119384956.0</td>\n",
              "      <td>Факультет креативных индустрий</td>\n",
              "      <td>None</td>\n",
              "      <td>https://www.hse.ru/polls/486299509.html</td>\n",
              "      <td>None</td>\n",
              "      <td>https://www.hse.ru/polls/486299689.html</td>\n",
              "      <td>None</td>\n",
              "      <td>NaN</td>\n",
              "    </tr>\n",
              "    <tr>\n",
              "      <th>213</th>\n",
              "      <td>777605358</td>\n",
              "      <td>https://www.hse.ru/edu/dpo/777605358</td>\n",
              "      <td>Практика правоприменения норм Федерального зак...</td>\n",
              "      <td>Курс повышения квалификации выстроен в соответ...</td>\n",
              "      <td>None</td>\n",
              "      <td>Повышение квалификации</td>\n",
              "      <td>Онлайн</td>\n",
              "      <td>135339.0</td>\n",
              "      <td>Региональный центр подготовки кадров для систе...</td>\n",
              "      <td>None</td>\n",
              "      <td>https://www.hse.ru/polls/777605174.html</td>\n",
              "      <td>None</td>\n",
              "      <td>https://www.hse.ru/polls/777605310.html</td>\n",
              "      <td>[486199682, 486199693, 486200020, 486200022, 7...</td>\n",
              "      <td>NaN</td>\n",
              "    </tr>\n",
              "    <tr>\n",
              "      <th>237</th>\n",
              "      <td>480736506</td>\n",
              "      <td>https://www.hse.ru/edu/dpo/480736506</td>\n",
              "      <td>Организация строительного производства. Управл...</td>\n",
              "      <td>Слушатели совершенствуют и получат новые компе...</td>\n",
              "      <td>None</td>\n",
              "      <td>Повышение квалификации</td>\n",
              "      <td>Смешанный</td>\n",
              "      <td>61217348.0</td>\n",
              "      <td>Институт строительства и жилищно-коммунального...</td>\n",
              "      <td></td>\n",
              "      <td>https://www.hse.ru/polls/480736491.html</td>\n",
              "      <td></td>\n",
              "      <td>https://www.hse.ru/polls/480736500.html</td>\n",
              "      <td>None</td>\n",
              "      <td>NaN</td>\n",
              "    </tr>\n",
              "    <tr>\n",
              "      <th>378</th>\n",
              "      <td>480508962</td>\n",
              "      <td>https://www.hse.ru/edu/dpo/480508962</td>\n",
              "      <td>Организация строительного производства. Управл...</td>\n",
              "      <td>Слушатели совершенствуют и получат новые компе...</td>\n",
              "      <td>None</td>\n",
              "      <td>Повышение квалификации</td>\n",
              "      <td>Дистанционный</td>\n",
              "      <td>61217348.0</td>\n",
              "      <td>Институт строительства и жилищно-коммунального...</td>\n",
              "      <td></td>\n",
              "      <td>https://www.hse.ru/polls/480508964.html</td>\n",
              "      <td></td>\n",
              "      <td>https://www.hse.ru/polls/480508973.html</td>\n",
              "      <td>None</td>\n",
              "      <td>NaN</td>\n",
              "    </tr>\n",
              "    <tr>\n",
              "      <th>409</th>\n",
              "      <td>472495888</td>\n",
              "      <td>https://www.hse.ru/edu/dpo/472495888</td>\n",
              "      <td>Ценообразование и сметное дело</td>\n",
              "      <td>В процессе обучения слушатели будут  ознакомле...</td>\n",
              "      <td>None</td>\n",
              "      <td>Профессиональная переподготовка</td>\n",
              "      <td>Дистанционный</td>\n",
              "      <td>61217348.0</td>\n",
              "      <td>Институт строительства и жилищно-коммунального...</td>\n",
              "      <td></td>\n",
              "      <td>https://www.hse.ru/polls/472495873.html</td>\n",
              "      <td></td>\n",
              "      <td>https://www.hse.ru/polls/472495882.html</td>\n",
              "      <td>None</td>\n",
              "      <td>NaN</td>\n",
              "    </tr>\n",
              "    <tr>\n",
              "      <th>433</th>\n",
              "      <td>480746222</td>\n",
              "      <td>https://www.hse.ru/edu/dpo/480746222</td>\n",
              "      <td>Эксплуатация зданий и сооружений</td>\n",
              "      <td>Программы разработана с применением актуальных...</td>\n",
              "      <td>None</td>\n",
              "      <td>Профессиональная переподготовка</td>\n",
              "      <td>Смешанный</td>\n",
              "      <td>61217348.0</td>\n",
              "      <td>Институт строительства и жилищно-коммунального...</td>\n",
              "      <td></td>\n",
              "      <td>https://www.hse.ru/polls/480746224.html</td>\n",
              "      <td></td>\n",
              "      <td>https://www.hse.ru/polls/480746233.html</td>\n",
              "      <td>None</td>\n",
              "      <td>NaN</td>\n",
              "    </tr>\n",
              "  </tbody>\n",
              "</table>\n",
              "</div>"
            ],
            "text/plain": [
              "            id                                   url  \\\n",
              "101  486202666  https://www.hse.ru/edu/dpo/486202666   \n",
              "213  777605358  https://www.hse.ru/edu/dpo/777605358   \n",
              "237  480736506  https://www.hse.ru/edu/dpo/480736506   \n",
              "378  480508962  https://www.hse.ru/edu/dpo/480508962   \n",
              "409  472495888  https://www.hse.ru/edu/dpo/472495888   \n",
              "433  480746222  https://www.hse.ru/edu/dpo/480746222   \n",
              "\n",
              "                                                 title  \\\n",
              "101  Режиссура кино, телевидения и цифровых медиапр...   \n",
              "213  Практика правоприменения норм Федерального зак...   \n",
              "237  Организация строительного производства. Управл...   \n",
              "378  Организация строительного производства. Управл...   \n",
              "409                     Ценообразование и сметное дело   \n",
              "433                   Эксплуатация зданий и сооружений   \n",
              "\n",
              "                                           description duration  \\\n",
              "101  Вы будете учиться у мастера курса – режиссера ...     None   \n",
              "213  Курс повышения квалификации выстроен в соответ...     None   \n",
              "237  Слушатели совершенствуют и получат новые компе...     None   \n",
              "378  Слушатели совершенствуют и получат новые компе...     None   \n",
              "409  В процессе обучения слушатели будут  ознакомле...     None   \n",
              "433  Программы разработана с применением актуальных...     None   \n",
              "\n",
              "                                type   study_format  org_unit_id  \\\n",
              "101  Профессиональная переподготовка          Очный  119384956.0   \n",
              "213           Повышение квалификации         Онлайн     135339.0   \n",
              "237           Повышение квалификации      Смешанный   61217348.0   \n",
              "378           Повышение квалификации  Дистанционный   61217348.0   \n",
              "409  Профессиональная переподготовка  Дистанционный   61217348.0   \n",
              "433  Профессиональная переподготовка      Смешанный   61217348.0   \n",
              "\n",
              "                                        org_unit_title  \\\n",
              "101                     Факультет креативных индустрий   \n",
              "213  Региональный центр подготовки кадров для систе...   \n",
              "237  Институт строительства и жилищно-коммунального...   \n",
              "378  Институт строительства и жилищно-коммунального...   \n",
              "409  Институт строительства и жилищно-коммунального...   \n",
              "433  Институт строительства и жилищно-коммунального...   \n",
              "\n",
              "    external_application_form_url                     application_form_url  \\\n",
              "101                          None  https://www.hse.ru/polls/486299509.html   \n",
              "213                          None  https://www.hse.ru/polls/777605174.html   \n",
              "237                                https://www.hse.ru/polls/480736491.html   \n",
              "378                                https://www.hse.ru/polls/480508964.html   \n",
              "409                                https://www.hse.ru/polls/472495873.html   \n",
              "433                                https://www.hse.ru/polls/480746224.html   \n",
              "\n",
              "    external_ask_form_url                             ask_form_url  \\\n",
              "101                  None  https://www.hse.ru/polls/486299689.html   \n",
              "213                  None  https://www.hse.ru/polls/777605310.html   \n",
              "237                        https://www.hse.ru/polls/480736500.html   \n",
              "378                        https://www.hse.ru/polls/480508973.html   \n",
              "409                        https://www.hse.ru/polls/472495882.html   \n",
              "433                        https://www.hse.ru/polls/480746233.html   \n",
              "\n",
              "                                      related_programs  duration_days  \n",
              "101                                               None            NaN  \n",
              "213  [486199682, 486199693, 486200020, 486200022, 7...            NaN  \n",
              "237                                               None            NaN  \n",
              "378                                               None            NaN  \n",
              "409                                               None            NaN  \n",
              "433                                               None            NaN  "
            ]
          },
          "execution_count": 109,
          "metadata": {},
          "output_type": "execute_result"
        }
      ],
      "source": [
        "courses_features[courses_features['duration'].isna()]"
      ]
    },
    {
      "attachments": {},
      "cell_type": "markdown",
      "metadata": {
        "id": "0V0FdtflvsNI"
      },
      "source": [
        "Проверим, есть ли несколько строк для одного курса"
      ]
    },
    {
      "cell_type": "code",
      "execution_count": 110,
      "metadata": {
        "colab": {
          "base_uri": "https://localhost:8080/"
        },
        "id": "4VvATfWOvx4g",
        "outputId": "28ad3009-3583-48d3-b51a-f6fbeffc0578"
      },
      "outputs": [
        {
          "data": {
            "text/plain": [
              "0"
            ]
          },
          "execution_count": 110,
          "metadata": {},
          "output_type": "execute_result"
        }
      ],
      "source": [
        "courses_features['id'].duplicated().sum()"
      ]
    },
    {
      "attachments": {},
      "cell_type": "markdown",
      "metadata": {
        "id": "rCBbO3ZpwZRO"
      },
      "source": [
        "Посмотрим на столбец type"
      ]
    },
    {
      "cell_type": "code",
      "execution_count": 111,
      "metadata": {
        "colab": {
          "base_uri": "https://localhost:8080/"
        },
        "id": "kZT34r8gwcW_",
        "outputId": "145e9049-a43e-4a68-ca91-92f1c0f46726"
      },
      "outputs": [
        {
          "data": {
            "text/plain": [
              "Повышение квалификации                     455\n",
              "Профессиональная переподготовка            164\n",
              "Specialized Master                          10\n",
              "Дополнительное образование для взрослых      6\n",
              "MBA                                          4\n",
              "Name: type, dtype: int64"
            ]
          },
          "execution_count": 111,
          "metadata": {},
          "output_type": "execute_result"
        }
      ],
      "source": [
        "courses_features['type'].value_counts()"
      ]
    },
    {
      "attachments": {},
      "cell_type": "markdown",
      "metadata": {
        "id": "pK9hKXyCajMZ"
      },
      "source": [
        "Разберемся со столбцом org_unit_id"
      ]
    },
    {
      "cell_type": "code",
      "execution_count": 112,
      "metadata": {
        "colab": {
          "base_uri": "https://localhost:8080/"
        },
        "id": "-btJdDVSaphw",
        "outputId": "086ddf8d-211f-4230-86b6-a3e987cae915"
      },
      "outputs": [
        {
          "data": {
            "text/plain": [
              "3"
            ]
          },
          "execution_count": 112,
          "metadata": {},
          "output_type": "execute_result"
        }
      ],
      "source": [
        "courses_features['org_unit_id'].isna().sum()"
      ]
    },
    {
      "attachments": {},
      "cell_type": "markdown",
      "metadata": {
        "id": "-FEk1P8vbnm0"
      },
      "source": [
        "Проверим, что для нас этот столбец не несет дополнительной информации, так как название организации мы уже знаем"
      ]
    },
    {
      "cell_type": "code",
      "execution_count": 113,
      "metadata": {
        "colab": {
          "base_uri": "https://localhost:8080/"
        },
        "id": "eRPreTp4awv6",
        "outputId": "cd20bd2a-52d3-4fbf-8a0e-1f21b1c9fda4"
      },
      "outputs": [
        {
          "data": {
            "text/plain": [
              "org_unit_title    0\n",
              "dtype: int64"
            ]
          },
          "execution_count": 113,
          "metadata": {},
          "output_type": "execute_result"
        }
      ],
      "source": [
        "(courses_features.groupby('org_unit_id').agg({'org_unit_title':'nunique'}) != 1).sum()"
      ]
    },
    {
      "attachments": {},
      "cell_type": "markdown",
      "metadata": {
        "id": "Xstrxed4ca3F"
      },
      "source": [
        "Он действительно не несет дополнительную информацию."
      ]
    },
    {
      "cell_type": "code",
      "execution_count": 114,
      "metadata": {
        "id": "-X0wsBUgb07B"
      },
      "outputs": [],
      "source": [
        "courses_features = courses_features.drop(['org_unit_id'],axis = 1)"
      ]
    },
    {
      "attachments": {},
      "cell_type": "markdown",
      "metadata": {
        "id": "-bk1kwCtcyK3"
      },
      "source": [
        "Разберемся со всеми столбцами ссылок и посмотрим используются ли они при заполнении форм пользователями в нашем датасете."
      ]
    },
    {
      "cell_type": "code",
      "execution_count": 115,
      "metadata": {},
      "outputs": [
        {
          "data": {
            "text/html": [
              "<div>\n",
              "<style scoped>\n",
              "    .dataframe tbody tr th:only-of-type {\n",
              "        vertical-align: middle;\n",
              "    }\n",
              "\n",
              "    .dataframe tbody tr th {\n",
              "        vertical-align: top;\n",
              "    }\n",
              "\n",
              "    .dataframe thead th {\n",
              "        text-align: right;\n",
              "    }\n",
              "</style>\n",
              "<table border=\"1\" class=\"dataframe\">\n",
              "  <thead>\n",
              "    <tr style=\"text-align: right;\">\n",
              "      <th></th>\n",
              "      <th>id</th>\n",
              "      <th>url</th>\n",
              "      <th>title</th>\n",
              "      <th>description</th>\n",
              "      <th>duration</th>\n",
              "      <th>type</th>\n",
              "      <th>study_format</th>\n",
              "      <th>org_unit_title</th>\n",
              "      <th>external_application_form_url</th>\n",
              "      <th>application_form_url</th>\n",
              "      <th>external_ask_form_url</th>\n",
              "      <th>ask_form_url</th>\n",
              "      <th>related_programs</th>\n",
              "      <th>duration_days</th>\n",
              "    </tr>\n",
              "  </thead>\n",
              "  <tbody>\n",
              "    <tr>\n",
              "      <th>0</th>\n",
              "      <td>484817118</td>\n",
              "      <td>https://www.hse.ru/edu/dpo/484817118</td>\n",
              "      <td>Управление государственными и муниципальными з...</td>\n",
              "      <td>Участие в обучении представителей регулятора и...</td>\n",
              "      <td>3 недели</td>\n",
              "      <td>Повышение квалификации</td>\n",
              "      <td>Смешанный</td>\n",
              "      <td>Институт по ресурсному обеспечению управления ...</td>\n",
              "      <td></td>\n",
              "      <td>https://www.hse.ru/polls/484817103.html</td>\n",
              "      <td></td>\n",
              "      <td>https://www.hse.ru/polls/484817112.html</td>\n",
              "      <td>None</td>\n",
              "      <td>21.0</td>\n",
              "    </tr>\n",
              "    <tr>\n",
              "      <th>1</th>\n",
              "      <td>486198673</td>\n",
              "      <td>https://www.hse.ru/edu/dpo/486198673</td>\n",
              "      <td>Экономика и управление недвижимостью</td>\n",
              "      <td>Программа полностью разработана специалистами ...</td>\n",
              "      <td>13 месяцев</td>\n",
              "      <td>Профессиональная переподготовка</td>\n",
              "      <td>Смешанный</td>\n",
              "      <td>Институт налогового менеджмента и экономики не...</td>\n",
              "      <td>None</td>\n",
              "      <td>https://www.hse.ru/polls/486295892.html</td>\n",
              "      <td>None</td>\n",
              "      <td>https://www.hse.ru/polls/486296072.html</td>\n",
              "      <td>[474421659, 486198644]</td>\n",
              "      <td>390.0</td>\n",
              "    </tr>\n",
              "    <tr>\n",
              "      <th>2</th>\n",
              "      <td>430319050</td>\n",
              "      <td>https://www.hse.ru/edu/dpo/430319050</td>\n",
              "      <td>HR-менеджмент</td>\n",
              "      <td>Онлайн-курс направлен на формирование и развит...</td>\n",
              "      <td>6 месяцев</td>\n",
              "      <td>Профессиональная переподготовка</td>\n",
              "      <td>Онлайн</td>\n",
              "      <td>Бизнес-школа</td>\n",
              "      <td>None</td>\n",
              "      <td>https://www.hse.ru/polls/430319052.html</td>\n",
              "      <td>None</td>\n",
              "      <td>https://www.hse.ru/polls/430319061.html</td>\n",
              "      <td>[410026421, 424087715, 430128038, 495257336, 5...</td>\n",
              "      <td>180.0</td>\n",
              "    </tr>\n",
              "    <tr>\n",
              "      <th>3</th>\n",
              "      <td>463184567</td>\n",
              "      <td>https://www.hse.ru/edu/dpo/463184567</td>\n",
              "      <td>Бухгалтер коммерческой организации</td>\n",
              "      <td>Соответствие программы требованиям профстандар...</td>\n",
              "      <td>26 недель</td>\n",
              "      <td>Профессиональная переподготовка</td>\n",
              "      <td>Дистанционный</td>\n",
              "      <td>Центр развития компетенций в области финансов ...</td>\n",
              "      <td>None</td>\n",
              "      <td>https://www.hse.ru/polls/463184569.html</td>\n",
              "      <td></td>\n",
              "      <td>https://www.hse.ru/polls/463184578.html</td>\n",
              "      <td>None</td>\n",
              "      <td>182.0</td>\n",
              "    </tr>\n",
              "    <tr>\n",
              "      <th>4</th>\n",
              "      <td>420043663</td>\n",
              "      <td>https://www.hse.ru/edu/dpo/420043663</td>\n",
              "      <td>Практический маркетинг</td>\n",
              "      <td>Очный курс по маркетингу поможет освоить базов...</td>\n",
              "      <td>6 месяцев</td>\n",
              "      <td>Профессиональная переподготовка</td>\n",
              "      <td>Очный</td>\n",
              "      <td>Бизнес-школа</td>\n",
              "      <td>None</td>\n",
              "      <td>https://www.hse.ru/polls/420043665.html</td>\n",
              "      <td>None</td>\n",
              "      <td>https://www.hse.ru/polls/420043674.html</td>\n",
              "      <td>[428429022, 434015991, 522634060, 560610407, 6...</td>\n",
              "      <td>180.0</td>\n",
              "    </tr>\n",
              "  </tbody>\n",
              "</table>\n",
              "</div>"
            ],
            "text/plain": [
              "          id                                   url  \\\n",
              "0  484817118  https://www.hse.ru/edu/dpo/484817118   \n",
              "1  486198673  https://www.hse.ru/edu/dpo/486198673   \n",
              "2  430319050  https://www.hse.ru/edu/dpo/430319050   \n",
              "3  463184567  https://www.hse.ru/edu/dpo/463184567   \n",
              "4  420043663  https://www.hse.ru/edu/dpo/420043663   \n",
              "\n",
              "                                               title  \\\n",
              "0  Управление государственными и муниципальными з...   \n",
              "1               Экономика и управление недвижимостью   \n",
              "2                                      HR-менеджмент   \n",
              "3                 Бухгалтер коммерческой организации   \n",
              "4                             Практический маркетинг   \n",
              "\n",
              "                                         description    duration  \\\n",
              "0  Участие в обучении представителей регулятора и...    3 недели   \n",
              "1  Программа полностью разработана специалистами ...  13 месяцев   \n",
              "2  Онлайн-курс направлен на формирование и развит...   6 месяцев   \n",
              "3  Соответствие программы требованиям профстандар...   26 недель   \n",
              "4  Очный курс по маркетингу поможет освоить базов...   6 месяцев   \n",
              "\n",
              "                              type   study_format  \\\n",
              "0           Повышение квалификации      Смешанный   \n",
              "1  Профессиональная переподготовка      Смешанный   \n",
              "2  Профессиональная переподготовка         Онлайн   \n",
              "3  Профессиональная переподготовка  Дистанционный   \n",
              "4  Профессиональная переподготовка          Очный   \n",
              "\n",
              "                                      org_unit_title  \\\n",
              "0  Институт по ресурсному обеспечению управления ...   \n",
              "1  Институт налогового менеджмента и экономики не...   \n",
              "2                                       Бизнес-школа   \n",
              "3  Центр развития компетенций в области финансов ...   \n",
              "4                                       Бизнес-школа   \n",
              "\n",
              "  external_application_form_url                     application_form_url  \\\n",
              "0                                https://www.hse.ru/polls/484817103.html   \n",
              "1                          None  https://www.hse.ru/polls/486295892.html   \n",
              "2                          None  https://www.hse.ru/polls/430319052.html   \n",
              "3                          None  https://www.hse.ru/polls/463184569.html   \n",
              "4                          None  https://www.hse.ru/polls/420043665.html   \n",
              "\n",
              "  external_ask_form_url                             ask_form_url  \\\n",
              "0                        https://www.hse.ru/polls/484817112.html   \n",
              "1                  None  https://www.hse.ru/polls/486296072.html   \n",
              "2                  None  https://www.hse.ru/polls/430319061.html   \n",
              "3                        https://www.hse.ru/polls/463184578.html   \n",
              "4                  None  https://www.hse.ru/polls/420043674.html   \n",
              "\n",
              "                                    related_programs  duration_days  \n",
              "0                                               None           21.0  \n",
              "1                             [474421659, 486198644]          390.0  \n",
              "2  [410026421, 424087715, 430128038, 495257336, 5...          180.0  \n",
              "3                                               None          182.0  \n",
              "4  [428429022, 434015991, 522634060, 560610407, 6...          180.0  "
            ]
          },
          "execution_count": 115,
          "metadata": {},
          "output_type": "execute_result"
        }
      ],
      "source": [
        "courses_features.head()"
      ]
    },
    {
      "cell_type": "code",
      "execution_count": 116,
      "metadata": {},
      "outputs": [
        {
          "name": "stdout",
          "output_type": "stream",
          "text": [
            "Количество пропусков в столбце external_application_form_url =  235\n",
            "Количество пропусков в столбце application_form_url =  0\n",
            "Количество пропусков в столбце external_ask_form_url =  276\n",
            "Количество пропусков в столбце ask_form_url =  0\n"
          ]
        }
      ],
      "source": [
        "print(\"Количество пропусков в столбце external_application_form_url = \",courses_features.external_application_form_url.isna().sum())\n",
        "print(\"Количество пропусков в столбце application_form_url = \",courses_features.application_form_url.isna().sum())\n",
        "print(\"Количество пропусков в столбце external_ask_form_url = \",courses_features.external_ask_form_url.isna().sum())\n",
        "print(\"Количество пропусков в столбце ask_form_url = \",courses_features.ask_form_url.isna().sum())"
      ]
    },
    {
      "cell_type": "code",
      "execution_count": 117,
      "metadata": {},
      "outputs": [
        {
          "data": {
            "text/html": [
              "<div>\n",
              "<style scoped>\n",
              "    .dataframe tbody tr th:only-of-type {\n",
              "        vertical-align: middle;\n",
              "    }\n",
              "\n",
              "    .dataframe tbody tr th {\n",
              "        vertical-align: top;\n",
              "    }\n",
              "\n",
              "    .dataframe thead th {\n",
              "        text-align: right;\n",
              "    }\n",
              "</style>\n",
              "<table border=\"1\" class=\"dataframe\">\n",
              "  <thead>\n",
              "    <tr style=\"text-align: right;\">\n",
              "      <th></th>\n",
              "      <th>external_application_form_url</th>\n",
              "      <th>application_form_url</th>\n",
              "    </tr>\n",
              "  </thead>\n",
              "  <tbody>\n",
              "    <tr>\n",
              "      <th>0</th>\n",
              "      <td></td>\n",
              "      <td>https://www.hse.ru/polls/484817103.html</td>\n",
              "    </tr>\n",
              "    <tr>\n",
              "      <th>5</th>\n",
              "      <td></td>\n",
              "      <td>https://www.hse.ru/polls/428429026.html</td>\n",
              "    </tr>\n",
              "    <tr>\n",
              "      <th>6</th>\n",
              "      <td></td>\n",
              "      <td>https://www.hse.ru/polls/484652197.html</td>\n",
              "    </tr>\n",
              "    <tr>\n",
              "      <th>7</th>\n",
              "      <td>https://www.hse.ru/polls/663293914.html</td>\n",
              "      <td>https://www.hse.ru/polls/486296961.html</td>\n",
              "    </tr>\n",
              "    <tr>\n",
              "      <th>8</th>\n",
              "      <td></td>\n",
              "      <td>https://www.hse.ru/polls/480913814.html</td>\n",
              "    </tr>\n",
              "    <tr>\n",
              "      <th>...</th>\n",
              "      <td>...</td>\n",
              "      <td>...</td>\n",
              "    </tr>\n",
              "    <tr>\n",
              "      <th>631</th>\n",
              "      <td>https://www.hse.ru/polls/unit/205756164/476497...</td>\n",
              "      <td>https://www.hse.ru/polls/465142199.html</td>\n",
              "    </tr>\n",
              "    <tr>\n",
              "      <th>632</th>\n",
              "      <td>https://www.hse.ru/polls/unit/205756164/476496...</td>\n",
              "      <td>https://www.hse.ru/polls/465141493.html</td>\n",
              "    </tr>\n",
              "    <tr>\n",
              "      <th>633</th>\n",
              "      <td>https://www.hse.ru/polls/unit/205756164/476497...</td>\n",
              "      <td>https://www.hse.ru/polls/465142105.html</td>\n",
              "    </tr>\n",
              "    <tr>\n",
              "      <th>634</th>\n",
              "      <td>https://www.hse.ru/polls/unit/205756164/476497...</td>\n",
              "      <td>https://www.hse.ru/polls/459526386.html</td>\n",
              "    </tr>\n",
              "    <tr>\n",
              "      <th>636</th>\n",
              "      <td>https://cs.hse.ru/dpo/polls/471346672.html</td>\n",
              "      <td>https://www.hse.ru/polls/471346704.html</td>\n",
              "    </tr>\n",
              "  </tbody>\n",
              "</table>\n",
              "<p>404 rows × 2 columns</p>\n",
              "</div>"
            ],
            "text/plain": [
              "                         external_application_form_url  \\\n",
              "0                                                        \n",
              "5                                                        \n",
              "6                                                        \n",
              "7              https://www.hse.ru/polls/663293914.html   \n",
              "8                                                        \n",
              "..                                                 ...   \n",
              "631  https://www.hse.ru/polls/unit/205756164/476497...   \n",
              "632  https://www.hse.ru/polls/unit/205756164/476496...   \n",
              "633  https://www.hse.ru/polls/unit/205756164/476497...   \n",
              "634  https://www.hse.ru/polls/unit/205756164/476497...   \n",
              "636         https://cs.hse.ru/dpo/polls/471346672.html   \n",
              "\n",
              "                        application_form_url  \n",
              "0    https://www.hse.ru/polls/484817103.html  \n",
              "5    https://www.hse.ru/polls/428429026.html  \n",
              "6    https://www.hse.ru/polls/484652197.html  \n",
              "7    https://www.hse.ru/polls/486296961.html  \n",
              "8    https://www.hse.ru/polls/480913814.html  \n",
              "..                                       ...  \n",
              "631  https://www.hse.ru/polls/465142199.html  \n",
              "632  https://www.hse.ru/polls/465141493.html  \n",
              "633  https://www.hse.ru/polls/465142105.html  \n",
              "634  https://www.hse.ru/polls/459526386.html  \n",
              "636  https://www.hse.ru/polls/471346704.html  \n",
              "\n",
              "[404 rows x 2 columns]"
            ]
          },
          "execution_count": 117,
          "metadata": {},
          "output_type": "execute_result"
        }
      ],
      "source": [
        "courses_features[~(courses_features.external_application_form_url.isna())][['external_application_form_url','application_form_url']]"
      ]
    },
    {
      "attachments": {},
      "cell_type": "markdown",
      "metadata": {},
      "source": [
        "В столбце external_application_form_url были обнаружены пустые строки, заменим их на None, так как это по сути пропуски"
      ]
    },
    {
      "cell_type": "code",
      "execution_count": 118,
      "metadata": {},
      "outputs": [],
      "source": [
        "courses_features['external_application_form_url'] = courses_features['external_application_form_url'].apply(lambda x: x if (x != None) and (len(x)>0) else None)"
      ]
    },
    {
      "cell_type": "code",
      "execution_count": 119,
      "metadata": {},
      "outputs": [
        {
          "data": {
            "text/html": [
              "<div>\n",
              "<style scoped>\n",
              "    .dataframe tbody tr th:only-of-type {\n",
              "        vertical-align: middle;\n",
              "    }\n",
              "\n",
              "    .dataframe tbody tr th {\n",
              "        vertical-align: top;\n",
              "    }\n",
              "\n",
              "    .dataframe thead th {\n",
              "        text-align: right;\n",
              "    }\n",
              "</style>\n",
              "<table border=\"1\" class=\"dataframe\">\n",
              "  <thead>\n",
              "    <tr style=\"text-align: right;\">\n",
              "      <th></th>\n",
              "      <th>external_application_form_url</th>\n",
              "      <th>application_form_url</th>\n",
              "    </tr>\n",
              "  </thead>\n",
              "  <tbody>\n",
              "    <tr>\n",
              "      <th>7</th>\n",
              "      <td>https://www.hse.ru/polls/663293914.html</td>\n",
              "      <td>https://www.hse.ru/polls/486296961.html</td>\n",
              "    </tr>\n",
              "    <tr>\n",
              "      <th>11</th>\n",
              "      <td>https://cs.hse.ru/dpo/polls/407535947.html</td>\n",
              "      <td>https://www.hse.ru/polls/557703978.html</td>\n",
              "    </tr>\n",
              "    <tr>\n",
              "      <th>12</th>\n",
              "      <td>https://cs.hse.ru/dpo/polls/409921890.html</td>\n",
              "      <td>https://www.hse.ru/polls/555524329.html</td>\n",
              "    </tr>\n",
              "    <tr>\n",
              "      <th>13</th>\n",
              "      <td>https://cs.hse.ru/dpo/polls/409921321.html</td>\n",
              "      <td>https://www.hse.ru/polls/470867464.html</td>\n",
              "    </tr>\n",
              "    <tr>\n",
              "      <th>19</th>\n",
              "      <td>https://finance.hse.ru/analytical-reports/poll...</td>\n",
              "      <td>https://www.hse.ru/polls/486303025.html</td>\n",
              "    </tr>\n",
              "    <tr>\n",
              "      <th>...</th>\n",
              "      <td>...</td>\n",
              "      <td>...</td>\n",
              "    </tr>\n",
              "    <tr>\n",
              "      <th>631</th>\n",
              "      <td>https://www.hse.ru/polls/unit/205756164/476497...</td>\n",
              "      <td>https://www.hse.ru/polls/465142199.html</td>\n",
              "    </tr>\n",
              "    <tr>\n",
              "      <th>632</th>\n",
              "      <td>https://www.hse.ru/polls/unit/205756164/476496...</td>\n",
              "      <td>https://www.hse.ru/polls/465141493.html</td>\n",
              "    </tr>\n",
              "    <tr>\n",
              "      <th>633</th>\n",
              "      <td>https://www.hse.ru/polls/unit/205756164/476497...</td>\n",
              "      <td>https://www.hse.ru/polls/465142105.html</td>\n",
              "    </tr>\n",
              "    <tr>\n",
              "      <th>634</th>\n",
              "      <td>https://www.hse.ru/polls/unit/205756164/476497...</td>\n",
              "      <td>https://www.hse.ru/polls/459526386.html</td>\n",
              "    </tr>\n",
              "    <tr>\n",
              "      <th>636</th>\n",
              "      <td>https://cs.hse.ru/dpo/polls/471346672.html</td>\n",
              "      <td>https://www.hse.ru/polls/471346704.html</td>\n",
              "    </tr>\n",
              "  </tbody>\n",
              "</table>\n",
              "<p>255 rows × 2 columns</p>\n",
              "</div>"
            ],
            "text/plain": [
              "                         external_application_form_url  \\\n",
              "7              https://www.hse.ru/polls/663293914.html   \n",
              "11          https://cs.hse.ru/dpo/polls/407535947.html   \n",
              "12          https://cs.hse.ru/dpo/polls/409921890.html   \n",
              "13          https://cs.hse.ru/dpo/polls/409921321.html   \n",
              "19   https://finance.hse.ru/analytical-reports/poll...   \n",
              "..                                                 ...   \n",
              "631  https://www.hse.ru/polls/unit/205756164/476497...   \n",
              "632  https://www.hse.ru/polls/unit/205756164/476496...   \n",
              "633  https://www.hse.ru/polls/unit/205756164/476497...   \n",
              "634  https://www.hse.ru/polls/unit/205756164/476497...   \n",
              "636         https://cs.hse.ru/dpo/polls/471346672.html   \n",
              "\n",
              "                        application_form_url  \n",
              "7    https://www.hse.ru/polls/486296961.html  \n",
              "11   https://www.hse.ru/polls/557703978.html  \n",
              "12   https://www.hse.ru/polls/555524329.html  \n",
              "13   https://www.hse.ru/polls/470867464.html  \n",
              "19   https://www.hse.ru/polls/486303025.html  \n",
              "..                                       ...  \n",
              "631  https://www.hse.ru/polls/465142199.html  \n",
              "632  https://www.hse.ru/polls/465141493.html  \n",
              "633  https://www.hse.ru/polls/465142105.html  \n",
              "634  https://www.hse.ru/polls/459526386.html  \n",
              "636  https://www.hse.ru/polls/471346704.html  \n",
              "\n",
              "[255 rows x 2 columns]"
            ]
          },
          "execution_count": 119,
          "metadata": {},
          "output_type": "execute_result"
        }
      ],
      "source": [
        "courses_features[~(courses_features.external_application_form_url.isna())][['external_application_form_url','application_form_url']]"
      ]
    },
    {
      "attachments": {},
      "cell_type": "markdown",
      "metadata": {},
      "source": [
        "Как мы видим, ссылки разные, но во всех этих ссылках есть слово polls, посмотрим во всех ли ссылках на форму есть это слово."
      ]
    },
    {
      "cell_type": "code",
      "execution_count": 120,
      "metadata": {},
      "outputs": [
        {
          "name": "stdout",
          "output_type": "stream",
          "text": [
            "Количество ссылок external_application_form_url без polls =  20\n",
            "Количество ссылок application_form_url без polls =  0\n"
          ]
        }
      ],
      "source": [
        "print(\"Количество ссылок external_application_form_url без polls = \",len(courses_features[courses_features['external_application_form_url'].apply(lambda x: (x != None) and ('poll' not in x))]))\n",
        "print(\"Количество ссылок application_form_url без polls = \", len(courses_features[courses_features['application_form_url'].apply(lambda x: (x != None) and ('poll' not in x))]))"
      ]
    },
    {
      "cell_type": "code",
      "execution_count": 121,
      "metadata": {},
      "outputs": [
        {
          "name": "stdout",
          "output_type": "stream",
          "text": [
            "Количество полных совпадений ссылок application_form_url 0\n",
            "Количество полных совпадений ссылок external_application_form_url 0\n"
          ]
        }
      ],
      "source": [
        "print(\"Количество полных совпадений ссылок application_form_url\" ,courses_features['application_form_url'].apply(lambda x: x in df.current_location).sum())\n",
        "print(\"Количество полных совпадений ссылок external_application_form_url\" ,courses_features['external_application_form_url'].apply(lambda x: x in df.current_location).sum())"
      ]
    },
    {
      "attachments": {},
      "cell_type": "markdown",
      "metadata": {},
      "source": [
        "Все-таки в подавляющем большинстве ссылок есть слово polls, проверим есть ли такие ссылки в датасете с взаимодействиями"
      ]
    },
    {
      "cell_type": "code",
      "execution_count": 122,
      "metadata": {},
      "outputs": [
        {
          "name": "stdout",
          "output_type": "stream",
          "text": [
            "6\n"
          ]
        }
      ],
      "source": [
        "print(df.current_location.dropna().apply(lambda x: 'polls' in x).sum())"
      ]
    },
    {
      "attachments": {},
      "cell_type": "markdown",
      "metadata": {},
      "source": [
        "Таким образом, так как у нас практически нет таких ссылок во взаимодействиях, то мы все так же не можем отличать тип формы, которую заполнил пользователь, удалим эти данные из признаков"
      ]
    },
    {
      "cell_type": "code",
      "execution_count": 123,
      "metadata": {
        "colab": {
          "base_uri": "https://localhost:8080/"
        },
        "id": "MJWINijdc7WL",
        "outputId": "a35f1475-e521-4f9c-b50f-1eba5156719f"
      },
      "outputs": [],
      "source": [
        "courses_features = courses_features.drop(['application_form_url','external_application_form_url'],axis = 1)"
      ]
    },
    {
      "attachments": {},
      "cell_type": "markdown",
      "metadata": {},
      "source": [
        "Проверим нужны ли нам признаки external_ask_form_url и ask_form_url"
      ]
    },
    {
      "cell_type": "code",
      "execution_count": 124,
      "metadata": {},
      "outputs": [
        {
          "name": "stdout",
          "output_type": "stream",
          "text": [
            "Количество ссылок ask_form_url без слова poll =  0\n",
            "Количество ссылок external_ask_form_url без слова poll =  0\n"
          ]
        }
      ],
      "source": [
        "print(\"Количество ссылок ask_form_url без слова poll = \",len(courses_features[courses_features['ask_form_url'].apply(lambda x: (x != None) and (x!='') and ('poll' not in x))]))\n",
        "print(\"Количество ссылок external_ask_form_url без слова poll = \",len(courses_features[courses_features['external_ask_form_url'].apply(lambda x: (x != None) and (x!='') and ('poll' not in x))]))"
      ]
    },
    {
      "attachments": {},
      "cell_type": "markdown",
      "metadata": {},
      "source": [
        "Как мы видим, эти признаки нам не нужны, удалим их"
      ]
    },
    {
      "cell_type": "code",
      "execution_count": 125,
      "metadata": {},
      "outputs": [],
      "source": [
        "courses_features = courses_features.drop(['ask_form_url'],axis = 1)"
      ]
    },
    {
      "cell_type": "code",
      "execution_count": 126,
      "metadata": {},
      "outputs": [],
      "source": [
        "courses_features = courses_features.drop(['external_ask_form_url'],axis = 1)"
      ]
    },
    {
      "attachments": {},
      "cell_type": "markdown",
      "metadata": {},
      "source": [
        "Рассмотрим столбец related_programs"
      ]
    },
    {
      "cell_type": "code",
      "execution_count": 127,
      "metadata": {},
      "outputs": [
        {
          "name": "stdout",
          "output_type": "stream",
          "text": [
            "Количество пропусков в столбце related_programs =  329\n"
          ]
        }
      ],
      "source": [
        "print('Количество пропусков в столбце related_programs = ', courses_features['related_programs'].isna().sum())"
      ]
    },
    {
      "attachments": {},
      "cell_type": "markdown",
      "metadata": {},
      "source": [
        "Половина курсов не имеют связанных курсов"
      ]
    },
    {
      "cell_type": "code",
      "execution_count": 128,
      "metadata": {},
      "outputs": [
        {
          "data": {
            "text/plain": [
              "3     194\n",
              "2      36\n",
              "1      21\n",
              "4      20\n",
              "8      16\n",
              "5       9\n",
              "7       6\n",
              "6       6\n",
              "9       1\n",
              "11      1\n",
              "Name: related_programs, dtype: int64"
            ]
          },
          "execution_count": 128,
          "metadata": {},
          "output_type": "execute_result"
        }
      ],
      "source": [
        "courses_features['related_programs'].dropna().apply(lambda x: len(x)).value_counts()"
      ]
    },
    {
      "cell_type": "code",
      "execution_count": 129,
      "metadata": {},
      "outputs": [
        {
          "data": {
            "text/html": [
              "<div>\n",
              "<style scoped>\n",
              "    .dataframe tbody tr th:only-of-type {\n",
              "        vertical-align: middle;\n",
              "    }\n",
              "\n",
              "    .dataframe tbody tr th {\n",
              "        vertical-align: top;\n",
              "    }\n",
              "\n",
              "    .dataframe thead th {\n",
              "        text-align: right;\n",
              "    }\n",
              "</style>\n",
              "<table border=\"1\" class=\"dataframe\">\n",
              "  <thead>\n",
              "    <tr style=\"text-align: right;\">\n",
              "      <th></th>\n",
              "      <th>id</th>\n",
              "      <th>url</th>\n",
              "      <th>title</th>\n",
              "      <th>description</th>\n",
              "      <th>duration</th>\n",
              "      <th>type</th>\n",
              "      <th>study_format</th>\n",
              "      <th>org_unit_title</th>\n",
              "      <th>related_programs</th>\n",
              "      <th>duration_days</th>\n",
              "    </tr>\n",
              "  </thead>\n",
              "  <tbody>\n",
              "    <tr>\n",
              "      <th>1</th>\n",
              "      <td>486198673</td>\n",
              "      <td>https://www.hse.ru/edu/dpo/486198673</td>\n",
              "      <td>Экономика и управление недвижимостью</td>\n",
              "      <td>Программа полностью разработана специалистами ...</td>\n",
              "      <td>13 месяцев</td>\n",
              "      <td>Профессиональная переподготовка</td>\n",
              "      <td>Смешанный</td>\n",
              "      <td>Институт налогового менеджмента и экономики не...</td>\n",
              "      <td>[474421659, 486198644]</td>\n",
              "      <td>390.0</td>\n",
              "    </tr>\n",
              "    <tr>\n",
              "      <th>2</th>\n",
              "      <td>430319050</td>\n",
              "      <td>https://www.hse.ru/edu/dpo/430319050</td>\n",
              "      <td>HR-менеджмент</td>\n",
              "      <td>Онлайн-курс направлен на формирование и развит...</td>\n",
              "      <td>6 месяцев</td>\n",
              "      <td>Профессиональная переподготовка</td>\n",
              "      <td>Онлайн</td>\n",
              "      <td>Бизнес-школа</td>\n",
              "      <td>[410026421, 424087715, 430128038, 495257336, 5...</td>\n",
              "      <td>180.0</td>\n",
              "    </tr>\n",
              "    <tr>\n",
              "      <th>4</th>\n",
              "      <td>420043663</td>\n",
              "      <td>https://www.hse.ru/edu/dpo/420043663</td>\n",
              "      <td>Практический маркетинг</td>\n",
              "      <td>Очный курс по маркетингу поможет освоить базов...</td>\n",
              "      <td>6 месяцев</td>\n",
              "      <td>Профессиональная переподготовка</td>\n",
              "      <td>Очный</td>\n",
              "      <td>Бизнес-школа</td>\n",
              "      <td>[428429022, 434015991, 522634060, 560610407, 6...</td>\n",
              "      <td>180.0</td>\n",
              "    </tr>\n",
              "    <tr>\n",
              "      <th>5</th>\n",
              "      <td>428429022</td>\n",
              "      <td>https://www.hse.ru/edu/dpo/428429022</td>\n",
              "      <td>Управление проектами</td>\n",
              "      <td>Краткосрочная программа ДПО охватывает практик...</td>\n",
              "      <td>4 недели</td>\n",
              "      <td>Повышение квалификации</td>\n",
              "      <td>Онлайн</td>\n",
              "      <td>Бизнес-школа</td>\n",
              "      <td>[408271699, 410026421, 434014480, 522634060, 5...</td>\n",
              "      <td>28.0</td>\n",
              "    </tr>\n",
              "    <tr>\n",
              "      <th>7</th>\n",
              "      <td>486199682</td>\n",
              "      <td>https://www.hse.ru/edu/dpo/486199682</td>\n",
              "      <td>Контрактная система в сфере закупок товаров, р...</td>\n",
              "      <td>Партнеры курса ведут занятия и делают запрос н...</td>\n",
              "      <td>3 недели</td>\n",
              "      <td>Повышение квалификации</td>\n",
              "      <td>Дистанционный</td>\n",
              "      <td>Региональный центр подготовки кадров для систе...</td>\n",
              "      <td>[470690129, 486199693, 486200020, 486200022, 6...</td>\n",
              "      <td>21.0</td>\n",
              "    </tr>\n",
              "    <tr>\n",
              "      <th>...</th>\n",
              "      <td>...</td>\n",
              "      <td>...</td>\n",
              "      <td>...</td>\n",
              "      <td>...</td>\n",
              "      <td>...</td>\n",
              "      <td>...</td>\n",
              "      <td>...</td>\n",
              "      <td>...</td>\n",
              "      <td>...</td>\n",
              "      <td>...</td>\n",
              "    </tr>\n",
              "    <tr>\n",
              "      <th>633</th>\n",
              "      <td>465142120</td>\n",
              "      <td>https://www.hse.ru/edu/dpo/465142120</td>\n",
              "      <td>Подтверждение соответствия пищевой продукции ж...</td>\n",
              "      <td>направлена на формирование новых (углубленных,...</td>\n",
              "      <td>13 недель</td>\n",
              "      <td>Профессиональная переподготовка</td>\n",
              "      <td>Дистанционный</td>\n",
              "      <td>Международный научно-образовательный центр тех...</td>\n",
              "      <td>[459392511, 465141918, 465142214]</td>\n",
              "      <td>91.0</td>\n",
              "    </tr>\n",
              "    <tr>\n",
              "      <th>634</th>\n",
              "      <td>459526384</td>\n",
              "      <td>https://www.hse.ru/edu/dpo/459526384</td>\n",
              "      <td>Подтверждение соответствия продукции легкой пр...</td>\n",
              "      <td>направлена на формирование новых (углубленных,...</td>\n",
              "      <td>12 недель</td>\n",
              "      <td>Профессиональная переподготовка</td>\n",
              "      <td>Дистанционный</td>\n",
              "      <td>Международный научно-образовательный центр тех...</td>\n",
              "      <td>[465321492, 465322050, 465323562]</td>\n",
              "      <td>84.0</td>\n",
              "    </tr>\n",
              "    <tr>\n",
              "      <th>635</th>\n",
              "      <td>463382443</td>\n",
              "      <td>https://www.hse.ru/edu/dpo/463382443</td>\n",
              "      <td>Главный бухгалтер коммерческой организации</td>\n",
              "      <td>Соответствие программы требованиям профстандар...</td>\n",
              "      <td>40 недель</td>\n",
              "      <td>Профессиональная переподготовка</td>\n",
              "      <td>Дистанционный</td>\n",
              "      <td>Центр развития компетенций в области финансов ...</td>\n",
              "      <td>[463184567]</td>\n",
              "      <td>280.0</td>\n",
              "    </tr>\n",
              "    <tr>\n",
              "      <th>636</th>\n",
              "      <td>471346702</td>\n",
              "      <td>https://www.hse.ru/edu/dpo/471346702</td>\n",
              "      <td>Машинное обучение</td>\n",
              "      <td>None</td>\n",
              "      <td>14 недель</td>\n",
              "      <td>Повышение квалификации</td>\n",
              "      <td>Очный</td>\n",
              "      <td>Факультет компьютерных наук</td>\n",
              "      <td>[470867462, 471339557, 471346702, 472490501, 4...</td>\n",
              "      <td>98.0</td>\n",
              "    </tr>\n",
              "    <tr>\n",
              "      <th>638</th>\n",
              "      <td>724055684</td>\n",
              "      <td>https://www.hse.ru/edu/dpo/724055684</td>\n",
              "      <td>Финансовый менеджер</td>\n",
              "      <td>Изучение данного курса позволит применять осно...</td>\n",
              "      <td>6 месяцев</td>\n",
              "      <td>Профессиональная переподготовка</td>\n",
              "      <td>Дистанционный</td>\n",
              "      <td>Центр развития компетенций в области финансов ...</td>\n",
              "      <td>[472670830, 472677057, 486194858, 486195243, 7...</td>\n",
              "      <td>180.0</td>\n",
              "    </tr>\n",
              "  </tbody>\n",
              "</table>\n",
              "<p>310 rows × 10 columns</p>\n",
              "</div>"
            ],
            "text/plain": [
              "            id                                   url  \\\n",
              "1    486198673  https://www.hse.ru/edu/dpo/486198673   \n",
              "2    430319050  https://www.hse.ru/edu/dpo/430319050   \n",
              "4    420043663  https://www.hse.ru/edu/dpo/420043663   \n",
              "5    428429022  https://www.hse.ru/edu/dpo/428429022   \n",
              "7    486199682  https://www.hse.ru/edu/dpo/486199682   \n",
              "..         ...                                   ...   \n",
              "633  465142120  https://www.hse.ru/edu/dpo/465142120   \n",
              "634  459526384  https://www.hse.ru/edu/dpo/459526384   \n",
              "635  463382443  https://www.hse.ru/edu/dpo/463382443   \n",
              "636  471346702  https://www.hse.ru/edu/dpo/471346702   \n",
              "638  724055684  https://www.hse.ru/edu/dpo/724055684   \n",
              "\n",
              "                                                 title  \\\n",
              "1                 Экономика и управление недвижимостью   \n",
              "2                                        HR-менеджмент   \n",
              "4                               Практический маркетинг   \n",
              "5                                 Управление проектами   \n",
              "7    Контрактная система в сфере закупок товаров, р...   \n",
              "..                                                 ...   \n",
              "633  Подтверждение соответствия пищевой продукции ж...   \n",
              "634  Подтверждение соответствия продукции легкой пр...   \n",
              "635         Главный бухгалтер коммерческой организации   \n",
              "636                                  Машинное обучение   \n",
              "638                                Финансовый менеджер   \n",
              "\n",
              "                                           description    duration  \\\n",
              "1    Программа полностью разработана специалистами ...  13 месяцев   \n",
              "2    Онлайн-курс направлен на формирование и развит...   6 месяцев   \n",
              "4    Очный курс по маркетингу поможет освоить базов...   6 месяцев   \n",
              "5    Краткосрочная программа ДПО охватывает практик...    4 недели   \n",
              "7    Партнеры курса ведут занятия и делают запрос н...    3 недели   \n",
              "..                                                 ...         ...   \n",
              "633  направлена на формирование новых (углубленных,...   13 недель   \n",
              "634  направлена на формирование новых (углубленных,...   12 недель   \n",
              "635  Соответствие программы требованиям профстандар...   40 недель   \n",
              "636                                               None   14 недель   \n",
              "638  Изучение данного курса позволит применять осно...   6 месяцев   \n",
              "\n",
              "                                type   study_format  \\\n",
              "1    Профессиональная переподготовка      Смешанный   \n",
              "2    Профессиональная переподготовка         Онлайн   \n",
              "4    Профессиональная переподготовка          Очный   \n",
              "5             Повышение квалификации         Онлайн   \n",
              "7             Повышение квалификации  Дистанционный   \n",
              "..                               ...            ...   \n",
              "633  Профессиональная переподготовка  Дистанционный   \n",
              "634  Профессиональная переподготовка  Дистанционный   \n",
              "635  Профессиональная переподготовка  Дистанционный   \n",
              "636           Повышение квалификации          Очный   \n",
              "638  Профессиональная переподготовка  Дистанционный   \n",
              "\n",
              "                                        org_unit_title  \\\n",
              "1    Институт налогового менеджмента и экономики не...   \n",
              "2                                         Бизнес-школа   \n",
              "4                                         Бизнес-школа   \n",
              "5                                         Бизнес-школа   \n",
              "7    Региональный центр подготовки кадров для систе...   \n",
              "..                                                 ...   \n",
              "633  Международный научно-образовательный центр тех...   \n",
              "634  Международный научно-образовательный центр тех...   \n",
              "635  Центр развития компетенций в области финансов ...   \n",
              "636                        Факультет компьютерных наук   \n",
              "638  Центр развития компетенций в области финансов ...   \n",
              "\n",
              "                                      related_programs  duration_days  \n",
              "1                               [474421659, 486198644]          390.0  \n",
              "2    [410026421, 424087715, 430128038, 495257336, 5...          180.0  \n",
              "4    [428429022, 434015991, 522634060, 560610407, 6...          180.0  \n",
              "5    [408271699, 410026421, 434014480, 522634060, 5...           28.0  \n",
              "7    [470690129, 486199693, 486200020, 486200022, 6...           21.0  \n",
              "..                                                 ...            ...  \n",
              "633                  [459392511, 465141918, 465142214]           91.0  \n",
              "634                  [465321492, 465322050, 465323562]           84.0  \n",
              "635                                        [463184567]          280.0  \n",
              "636  [470867462, 471339557, 471346702, 472490501, 4...           98.0  \n",
              "638  [472670830, 472677057, 486194858, 486195243, 7...          180.0  \n",
              "\n",
              "[310 rows x 10 columns]"
            ]
          },
          "execution_count": 129,
          "metadata": {},
          "output_type": "execute_result"
        }
      ],
      "source": [
        "courses_features[~courses_features['related_programs'].isna()]"
      ]
    },
    {
      "attachments": {},
      "cell_type": "markdown",
      "metadata": {},
      "source": [
        "Так как наша модель будет использовать признаки курсов, в том числе для того чтобы опираться на метод близости курсов, следовательно дополнительные знания сверху о схожести каких-то курсов излишни, особенно учитывая что они имеют много пропусков."
      ]
    },
    {
      "attachments": {},
      "cell_type": "markdown",
      "metadata": {},
      "source": [
        "Избавимся от столбцов url, duration"
      ]
    },
    {
      "cell_type": "code",
      "execution_count": 130,
      "metadata": {},
      "outputs": [],
      "source": [
        "courses_features = courses_features.drop(['url','duration','related_programs'],axis = 1)"
      ]
    },
    {
      "attachments": {},
      "cell_type": "markdown",
      "metadata": {},
      "source": [
        "Применим для категориальных признаков - type, study_format one-hot-encoding, org_unit_title"
      ]
    },
    {
      "cell_type": "code",
      "execution_count": 131,
      "metadata": {},
      "outputs": [
        {
          "data": {
            "text/plain": [
              "id                0\n",
              "title             0\n",
              "description       6\n",
              "type              0\n",
              "study_format      4\n",
              "org_unit_title    3\n",
              "duration_days     6\n",
              "dtype: int64"
            ]
          },
          "execution_count": 131,
          "metadata": {},
          "output_type": "execute_result"
        }
      ],
      "source": [
        "courses_features.isna().sum()"
      ]
    },
    {
      "cell_type": "code",
      "execution_count": 132,
      "metadata": {},
      "outputs": [],
      "source": [
        "from sklearn.preprocessing import OneHotEncoder\n",
        "cat_columns = ['type','study_format','org_unit_title']\n",
        "encoder = OneHotEncoder(handle_unknown='ignore',sparse = False)\n",
        "categorical_features = pd.DataFrame(encoder.fit_transform(courses_features[cat_columns]))\n",
        "categories = encoder.categories_\n",
        "for i in range(len(categories)):\n",
        "    categories[i][categories[i] == None] = 'Unknown_'+cat_columns[i]\n",
        "categorical_features.columns = np.concatenate(categories)"
      ]
    },
    {
      "cell_type": "code",
      "execution_count": 133,
      "metadata": {},
      "outputs": [],
      "source": [
        "courses_features = courses_features.drop(['type','study_format'],axis = 1)"
      ]
    },
    {
      "cell_type": "code",
      "execution_count": 134,
      "metadata": {},
      "outputs": [],
      "source": [
        "courses_features = courses_features.drop(['org_unit_title'],axis = 1)"
      ]
    },
    {
      "cell_type": "code",
      "execution_count": 135,
      "metadata": {},
      "outputs": [],
      "source": [
        "courses_features = courses_features.join(categorical_features)"
      ]
    },
    {
      "attachments": {},
      "cell_type": "markdown",
      "metadata": {},
      "source": [
        "Заполним пропуски в колонке с длительностью 0"
      ]
    },
    {
      "cell_type": "code",
      "execution_count": 136,
      "metadata": {},
      "outputs": [],
      "source": [
        "courses_features['duration_days'] = courses_features['duration_days'].fillna(0)"
      ]
    },
    {
      "cell_type": "code",
      "execution_count": 137,
      "metadata": {},
      "outputs": [],
      "source": [
        "# from transformers import AutoModel, AutoTokenizer \n",
        "\n",
        "# model_name = \"sberbank-ai/sbert_large_nlu_ru\" \n",
        "\n",
        "# model = AutoModel.from_pretrained(model_name)\n",
        "# tokenizer = AutoTokenizer.from_pretrained(model_name)\n",
        "\n",
        "# inputs = tokenizer(\"Hello world!\", return_tensors=\"pt\")\n",
        "\n",
        "# outputs = model(**inputs)"
      ]
    },
    {
      "cell_type": "code",
      "execution_count": 138,
      "metadata": {},
      "outputs": [],
      "source": [
        "# len(outputs.pooler_output.tolist()[0])"
      ]
    },
    {
      "cell_type": "code",
      "execution_count": 139,
      "metadata": {},
      "outputs": [],
      "source": [
        "# courses_features.to_csv('./courses_features_1.csv',sep='^')"
      ]
    },
    {
      "attachments": {},
      "cell_type": "markdown",
      "metadata": {},
      "source": [
        "Сделаем препроцессинг наших текстовых данных для построения векторов для текстовых полей"
      ]
    },
    {
      "attachments": {},
      "cell_type": "markdown",
      "metadata": {},
      "source": [
        "Для начала приведем все к нижнему регистру"
      ]
    },
    {
      "cell_type": "code",
      "execution_count": 140,
      "metadata": {},
      "outputs": [],
      "source": [
        "courses_features[['description','title']] = courses_features[['description','title']].apply(lambda x: x.str.lower())"
      ]
    },
    {
      "attachments": {},
      "cell_type": "markdown",
      "metadata": {},
      "source": [
        "Далее удалим все не буквенно-цифровые символы, а также все знаки препинания и цифры, заменим все пробельные символы пробелами"
      ]
    },
    {
      "cell_type": "code",
      "execution_count": 141,
      "metadata": {},
      "outputs": [],
      "source": [
        "def clear_text(x):\n",
        "    if x == None:\n",
        "        return None\n",
        "    return re.sub(r'[\\s]+',' ',re.sub(r'[_\\d]',' ',re.sub(r'[^\\w\\s.]',' ',x))).strip()\n",
        "courses_features['description'] = courses_features['description'].apply(clear_text)\n",
        "courses_features['title'] = courses_features['title'].apply(clear_text)"
      ]
    },
    {
      "attachments": {},
      "cell_type": "markdown",
      "metadata": {},
      "source": [
        "Далее разобьем текст на токены и удалим стоп-слова"
      ]
    },
    {
      "cell_type": "code",
      "execution_count": 142,
      "metadata": {},
      "outputs": [
        {
          "name": "stderr",
          "output_type": "stream",
          "text": [
            "[nltk_data] Downloading package punkt to /home/ujcgjlm/nltk_data...\n",
            "[nltk_data]   Package punkt is already up-to-date!\n",
            "[nltk_data] Downloading package stopwords to\n",
            "[nltk_data]     /home/ujcgjlm/nltk_data...\n",
            "[nltk_data]   Package stopwords is already up-to-date!\n"
          ]
        }
      ],
      "source": [
        "nltk.download('punkt')\n",
        "nltk.download('stopwords')\n",
        "\n",
        "\n",
        "def tokenize(x):\n",
        "    if x == None:\n",
        "        return []\n",
        "    tokens = []\n",
        "    for sentence in sent_tokenize(x, language=\"russian\"):\n",
        "        sentence = re.sub(r'\\.?\\.?\\.?$','',sentence)\n",
        "        temp = []\n",
        "        for token in word_tokenize(sentence, language=\"russian\"):\n",
        "            if token not in stopwords.words(\"russian\"):\n",
        "                temp.append(token)\n",
        "        if len(temp) > 0:\n",
        "            tokens.append(temp)\n",
        "    return tokens\n",
        "\n",
        "courses_features['description'] = courses_features['description'].apply(tokenize)\n",
        "courses_features['title'] = courses_features['title'].apply(tokenize)"
      ]
    },
    {
      "attachments": {},
      "cell_type": "markdown",
      "metadata": {},
      "source": [
        "Приведем слова к начальной форме "
      ]
    },
    {
      "cell_type": "code",
      "execution_count": 144,
      "metadata": {},
      "outputs": [],
      "source": [
        "morph = pymorphy2.MorphAnalyzer()\n",
        "\n",
        "def lemmatization(x):\n",
        "    if x == None:\n",
        "        return None\n",
        "    for j in range(len(x)):\n",
        "        for i in range(len(x[j])):\n",
        "            x[j][i] = morph.parse(x[j][i])[0].normal_form\n",
        "    return x\n",
        "\n",
        "courses_features['description'] = courses_features['description'].apply(lemmatization)\n",
        "courses_features['title'] = courses_features['title'].apply(lemmatization)"
      ]
    },
    {
      "cell_type": "code",
      "execution_count": null,
      "metadata": {},
      "outputs": [],
      "source": [
        "#Обрежем слова до их основы\n",
        "# from nltk.stem import SnowballStemmer\n",
        "\n",
        "# stemmer = SnowballStemmer(language=\"russian\")\n",
        "# def stemming(x):\n",
        "#     if x == None:\n",
        "#         return None\n",
        "#     for j in range(len(x)):\n",
        "#         for i in range(len(x[j])):\n",
        "#             x[j][i] = stemmer.stem(x[j][i])\n",
        "#     return x \n",
        "\n",
        "# courses_features['description'] = courses_features['description'].apply(stemming)\n",
        "# courses_features['title'] = courses_features['title'].apply(stemming)"
      ]
    },
    {
      "attachments": {},
      "cell_type": "markdown",
      "metadata": {},
      "source": [
        "Сольем все списки в список для обучения, удалим одинаковые предложения"
      ]
    },
    {
      "cell_type": "code",
      "execution_count": 145,
      "metadata": {},
      "outputs": [],
      "source": [
        "temp_description = courses_features['description'].sum()\n",
        "temp_title = courses_features['title'].sum()"
      ]
    },
    {
      "cell_type": "code",
      "execution_count": 146,
      "metadata": {},
      "outputs": [],
      "source": [
        "def get_unique(temp):\n",
        "    train = []\n",
        "    strings = []\n",
        "    for i in range(len(temp)):\n",
        "        if len(temp[i]) == 0:\n",
        "            continue\n",
        "        s = \"\"\n",
        "        if s.join(temp[i]) not in strings:\n",
        "            strings.append(s.join(temp[i]))\n",
        "            train.append(temp[i])\n",
        "    return train\n",
        "\n",
        "train_description = get_unique(temp_description)\n",
        "train_title = get_unique(temp_title)"
      ]
    },
    {
      "cell_type": "code",
      "execution_count": 150,
      "metadata": {},
      "outputs": [],
      "source": [
        "#Обучим модели для каждого признака отдельно\n",
        "#model_description = Word2Vec(train_description, vector_size=12, min_count=1, workers = 1)\n",
        "#model_title = Word2Vec(train_title, vector_size=10, min_count=1,workers = 1)"
      ]
    },
    {
      "cell_type": "code",
      "execution_count": 159,
      "metadata": {},
      "outputs": [
        {
          "data": {
            "text/plain": [
              "[('проблемный', 0.8628553152084351),\n",
              " ('полный', 0.8559524416923523),\n",
              " ('история', 0.7999520301818848),\n",
              " ('база', 0.7975132465362549)]"
            ]
          },
          "execution_count": 159,
          "metadata": {},
          "output_type": "execute_result"
        }
      ],
      "source": [
        "#model_description.wv.most_similar(['медицинский'],topn=4)"
      ]
    },
    {
      "attachments": {},
      "cell_type": "markdown",
      "metadata": {},
      "source": [
        "Данных для выявления четких зависимостей мало, поэтому попробуем использовать уже обученную модель в таком случае использовать стемминг не нужно, и следует добавить часть речи"
      ]
    },
    {
      "cell_type": "code",
      "execution_count": 161,
      "metadata": {},
      "outputs": [],
      "source": [
        "nlp = ru_core_news_md.load()\n",
        "def add_tags_1(x):\n",
        "    for i in range(len(x)):\n",
        "        for j in range(len(x[i])):\n",
        "            x[i][j] = x[i][j] + '_' + nlp(x[i][j])[0].pos_\n",
        "    return x"
      ]
    },
    {
      "cell_type": "code",
      "execution_count": 162,
      "metadata": {},
      "outputs": [],
      "source": [
        "courses_features['description'] = courses_features['description'].apply(add_tags_1)\n",
        "courses_features['title'] = courses_features['title'].apply(add_tags_1)"
      ]
    },
    {
      "cell_type": "code",
      "execution_count": 163,
      "metadata": {},
      "outputs": [],
      "source": [
        "list_sentences_description = list(map(lambda x: ' '.join(x), train_description))\n",
        "list_sentences_title = list(map(lambda x: ' '.join(x), train_title))"
      ]
    },
    {
      "cell_type": "code",
      "execution_count": 165,
      "metadata": {},
      "outputs": [],
      "source": [
        "tfidf_description = TfidfVectorizer()\n",
        "tfidf_title = TfidfVectorizer()\n",
        "tfidf_unit = TfidfVectorizer()\n",
        "tfidf_description.fit(list_sentences_description)\n",
        "tfidf_title.fit(list_sentences_title)\n",
        "tfidf_dict = {'description':tfidf_description,'title':tfidf_title}"
      ]
    },
    {
      "cell_type": "code",
      "execution_count": 167,
      "metadata": {},
      "outputs": [
        {
          "name": "stdout",
          "output_type": "stream",
          "text": [
            "[======--------------------------------------------] 13.8% 27.5/198.8MB downloaded"
          ]
        },
        {
          "name": "stderr",
          "output_type": "stream",
          "text": [
            "IOPub message rate exceeded.\n",
            "The notebook server will temporarily stop sending output\n",
            "to the client in order to avoid crashing it.\n",
            "To change this limit, set the config variable\n",
            "`--NotebookApp.iopub_msg_rate_limit`.\n",
            "\n",
            "Current values:\n",
            "NotebookApp.iopub_msg_rate_limit=1000.0 (msgs/sec)\n",
            "NotebookApp.rate_limit_window=3.0 (secs)\n",
            "\n"
          ]
        },
        {
          "name": "stdout",
          "output_type": "stream",
          "text": [
            "[================----------------------------------] 32.6% 64.8/198.8MB downloaded"
          ]
        },
        {
          "name": "stderr",
          "output_type": "stream",
          "text": [
            "IOPub message rate exceeded.\n",
            "The notebook server will temporarily stop sending output\n",
            "to the client in order to avoid crashing it.\n",
            "To change this limit, set the config variable\n",
            "`--NotebookApp.iopub_msg_rate_limit`.\n",
            "\n",
            "Current values:\n",
            "NotebookApp.iopub_msg_rate_limit=1000.0 (msgs/sec)\n",
            "NotebookApp.rate_limit_window=3.0 (secs)\n",
            "\n"
          ]
        },
        {
          "name": "stdout",
          "output_type": "stream",
          "text": [
            "[=========================-------------------------] 50.2% 99.8/198.8MB downloaded"
          ]
        },
        {
          "name": "stderr",
          "output_type": "stream",
          "text": [
            "IOPub message rate exceeded.\n",
            "The notebook server will temporarily stop sending output\n",
            "to the client in order to avoid crashing it.\n",
            "To change this limit, set the config variable\n",
            "`--NotebookApp.iopub_msg_rate_limit`.\n",
            "\n",
            "Current values:\n",
            "NotebookApp.iopub_msg_rate_limit=1000.0 (msgs/sec)\n",
            "NotebookApp.rate_limit_window=3.0 (secs)\n",
            "\n"
          ]
        },
        {
          "name": "stdout",
          "output_type": "stream",
          "text": [
            "[===================================---------------] 70.3% 139.7/198.8MB downloaded"
          ]
        },
        {
          "name": "stderr",
          "output_type": "stream",
          "text": [
            "IOPub message rate exceeded.\n",
            "The notebook server will temporarily stop sending output\n",
            "to the client in order to avoid crashing it.\n",
            "To change this limit, set the config variable\n",
            "`--NotebookApp.iopub_msg_rate_limit`.\n",
            "\n",
            "Current values:\n",
            "NotebookApp.iopub_msg_rate_limit=1000.0 (msgs/sec)\n",
            "NotebookApp.rate_limit_window=3.0 (secs)\n",
            "\n"
          ]
        },
        {
          "name": "stdout",
          "output_type": "stream",
          "text": [
            "[==================================================] 100.0% 198.8/198.8MB downloaded\n"
          ]
        }
      ],
      "source": [
        "russian_model = download_api.load('word2vec-ruscorpora-300')"
      ]
    },
    {
      "cell_type": "code",
      "execution_count": 174,
      "metadata": {},
      "outputs": [],
      "source": [
        "def get_vector(x,column):\n",
        "    temp = []\n",
        "    tfidf = tfidf_dict[column]\n",
        "    for i in range(len(x)):\n",
        "        for j in range(len(x[i])):\n",
        "            if (x[i][j] in russian_model) and (str.lower(x[i][j]) in tfidf.vocabulary_.keys()):\n",
        "                idf = tfidf.idf_[tfidf.vocabulary_[str.lower(x[i][j])]]\n",
        "                temp.append(russian_model[x[i][j]] * idf)\n",
        "    if len(temp) == 0:\n",
        "        return np.zeros(300)\n",
        "    return np.mean(temp,axis = 0)"
      ]
    },
    {
      "cell_type": "code",
      "execution_count": 175,
      "metadata": {},
      "outputs": [],
      "source": [
        "courses_features['title'] = courses_features['title'].apply(get_vector,args=('title',))\n",
        "courses_features['description'] = courses_features['description'].apply(get_vector,args=('description',))"
      ]
    },
    {
      "cell_type": "code",
      "execution_count": null,
      "metadata": {},
      "outputs": [],
      "source": [
        "for column in ['title','description']:\n",
        "    for i in range(300):\n",
        "        courses_features[f'{column}_{i}'] = courses_features[column].apply(lambda x: x[i])"
      ]
    },
    {
      "cell_type": "code",
      "execution_count": 177,
      "metadata": {},
      "outputs": [
        {
          "data": {
            "text/html": [
              "<div>\n",
              "<style scoped>\n",
              "    .dataframe tbody tr th:only-of-type {\n",
              "        vertical-align: middle;\n",
              "    }\n",
              "\n",
              "    .dataframe tbody tr th {\n",
              "        vertical-align: top;\n",
              "    }\n",
              "\n",
              "    .dataframe thead th {\n",
              "        text-align: right;\n",
              "    }\n",
              "</style>\n",
              "<table border=\"1\" class=\"dataframe\">\n",
              "  <thead>\n",
              "    <tr style=\"text-align: right;\">\n",
              "      <th></th>\n",
              "      <th>id</th>\n",
              "      <th>title</th>\n",
              "      <th>description</th>\n",
              "      <th>duration_days</th>\n",
              "      <th>MBA</th>\n",
              "      <th>Specialized Master</th>\n",
              "      <th>Дополнительное образование для взрослых</th>\n",
              "      <th>Повышение квалификации</th>\n",
              "      <th>Профессиональная переподготовка</th>\n",
              "      <th>Дистанционный</th>\n",
              "      <th>...</th>\n",
              "      <th>description_290</th>\n",
              "      <th>description_291</th>\n",
              "      <th>description_292</th>\n",
              "      <th>description_293</th>\n",
              "      <th>description_294</th>\n",
              "      <th>description_295</th>\n",
              "      <th>description_296</th>\n",
              "      <th>description_297</th>\n",
              "      <th>description_298</th>\n",
              "      <th>description_299</th>\n",
              "    </tr>\n",
              "  </thead>\n",
              "  <tbody>\n",
              "    <tr>\n",
              "      <th>0</th>\n",
              "      <td>484817118</td>\n",
              "      <td>[0.07838695, -0.17113255, -0.13548853, -0.0729...</td>\n",
              "      <td>[0.084152415, -0.10514774, -0.1096427, 0.04016...</td>\n",
              "      <td>21.0</td>\n",
              "      <td>0.0</td>\n",
              "      <td>0.0</td>\n",
              "      <td>0.0</td>\n",
              "      <td>1.0</td>\n",
              "      <td>0.0</td>\n",
              "      <td>0.0</td>\n",
              "      <td>...</td>\n",
              "      <td>0.181073</td>\n",
              "      <td>0.181699</td>\n",
              "      <td>-0.057202</td>\n",
              "      <td>-0.121079</td>\n",
              "      <td>-0.054191</td>\n",
              "      <td>-0.376442</td>\n",
              "      <td>0.214094</td>\n",
              "      <td>-0.054375</td>\n",
              "      <td>-0.155563</td>\n",
              "      <td>-0.158932</td>\n",
              "    </tr>\n",
              "    <tr>\n",
              "      <th>1</th>\n",
              "      <td>486198673</td>\n",
              "      <td>[-0.09847188, -0.13868067, -0.1692385, 0.16344...</td>\n",
              "      <td>[0.02347232, -0.08187603, -0.12719981, 0.16975...</td>\n",
              "      <td>390.0</td>\n",
              "      <td>0.0</td>\n",
              "      <td>0.0</td>\n",
              "      <td>0.0</td>\n",
              "      <td>0.0</td>\n",
              "      <td>1.0</td>\n",
              "      <td>0.0</td>\n",
              "      <td>...</td>\n",
              "      <td>0.030400</td>\n",
              "      <td>0.052299</td>\n",
              "      <td>-0.155433</td>\n",
              "      <td>-0.005277</td>\n",
              "      <td>-0.064516</td>\n",
              "      <td>-0.227874</td>\n",
              "      <td>0.201132</td>\n",
              "      <td>-0.052335</td>\n",
              "      <td>-0.246417</td>\n",
              "      <td>-0.090042</td>\n",
              "    </tr>\n",
              "    <tr>\n",
              "      <th>2</th>\n",
              "      <td>430319050</td>\n",
              "      <td>[-0.16362506, -0.18743968, -0.021664428, -0.01...</td>\n",
              "      <td>[0.018166587, -0.08169377, -0.14943294, 0.1871...</td>\n",
              "      <td>180.0</td>\n",
              "      <td>0.0</td>\n",
              "      <td>0.0</td>\n",
              "      <td>0.0</td>\n",
              "      <td>0.0</td>\n",
              "      <td>1.0</td>\n",
              "      <td>0.0</td>\n",
              "      <td>...</td>\n",
              "      <td>0.069049</td>\n",
              "      <td>0.067199</td>\n",
              "      <td>-0.060811</td>\n",
              "      <td>-0.057947</td>\n",
              "      <td>-0.055386</td>\n",
              "      <td>-0.167582</td>\n",
              "      <td>0.212634</td>\n",
              "      <td>0.128243</td>\n",
              "      <td>-0.194125</td>\n",
              "      <td>-0.182664</td>\n",
              "    </tr>\n",
              "    <tr>\n",
              "      <th>3</th>\n",
              "      <td>463184567</td>\n",
              "      <td>[0.0019240677, -0.25128558, -0.36541083, 0.153...</td>\n",
              "      <td>[-0.033236083, -0.042782255, -0.1631944, 0.165...</td>\n",
              "      <td>182.0</td>\n",
              "      <td>0.0</td>\n",
              "      <td>0.0</td>\n",
              "      <td>0.0</td>\n",
              "      <td>0.0</td>\n",
              "      <td>1.0</td>\n",
              "      <td>1.0</td>\n",
              "      <td>...</td>\n",
              "      <td>0.095487</td>\n",
              "      <td>0.140341</td>\n",
              "      <td>-0.370753</td>\n",
              "      <td>0.049597</td>\n",
              "      <td>-0.212015</td>\n",
              "      <td>-0.250834</td>\n",
              "      <td>0.060476</td>\n",
              "      <td>-0.080062</td>\n",
              "      <td>-0.380524</td>\n",
              "      <td>-0.083958</td>\n",
              "    </tr>\n",
              "    <tr>\n",
              "      <th>4</th>\n",
              "      <td>420043663</td>\n",
              "      <td>[-0.11421541, -0.032873806, 0.09271251, 0.1122...</td>\n",
              "      <td>[-0.052191533, -0.056993086, -0.058620494, 0.0...</td>\n",
              "      <td>180.0</td>\n",
              "      <td>0.0</td>\n",
              "      <td>0.0</td>\n",
              "      <td>0.0</td>\n",
              "      <td>0.0</td>\n",
              "      <td>1.0</td>\n",
              "      <td>0.0</td>\n",
              "      <td>...</td>\n",
              "      <td>0.161881</td>\n",
              "      <td>0.017670</td>\n",
              "      <td>-0.034503</td>\n",
              "      <td>-0.115145</td>\n",
              "      <td>-0.055985</td>\n",
              "      <td>-0.169059</td>\n",
              "      <td>0.238166</td>\n",
              "      <td>-0.002234</td>\n",
              "      <td>-0.292364</td>\n",
              "      <td>-0.097465</td>\n",
              "    </tr>\n",
              "  </tbody>\n",
              "</table>\n",
              "<p>5 rows × 666 columns</p>\n",
              "</div>"
            ],
            "text/plain": [
              "          id                                              title  \\\n",
              "0  484817118  [0.07838695, -0.17113255, -0.13548853, -0.0729...   \n",
              "1  486198673  [-0.09847188, -0.13868067, -0.1692385, 0.16344...   \n",
              "2  430319050  [-0.16362506, -0.18743968, -0.021664428, -0.01...   \n",
              "3  463184567  [0.0019240677, -0.25128558, -0.36541083, 0.153...   \n",
              "4  420043663  [-0.11421541, -0.032873806, 0.09271251, 0.1122...   \n",
              "\n",
              "                                         description  duration_days  MBA  \\\n",
              "0  [0.084152415, -0.10514774, -0.1096427, 0.04016...           21.0  0.0   \n",
              "1  [0.02347232, -0.08187603, -0.12719981, 0.16975...          390.0  0.0   \n",
              "2  [0.018166587, -0.08169377, -0.14943294, 0.1871...          180.0  0.0   \n",
              "3  [-0.033236083, -0.042782255, -0.1631944, 0.165...          182.0  0.0   \n",
              "4  [-0.052191533, -0.056993086, -0.058620494, 0.0...          180.0  0.0   \n",
              "\n",
              "   Specialized Master  Дополнительное образование для взрослых  \\\n",
              "0                 0.0                                      0.0   \n",
              "1                 0.0                                      0.0   \n",
              "2                 0.0                                      0.0   \n",
              "3                 0.0                                      0.0   \n",
              "4                 0.0                                      0.0   \n",
              "\n",
              "   Повышение квалификации  Профессиональная переподготовка  Дистанционный  \\\n",
              "0                     1.0                              0.0            0.0   \n",
              "1                     0.0                              1.0            0.0   \n",
              "2                     0.0                              1.0            0.0   \n",
              "3                     0.0                              1.0            1.0   \n",
              "4                     0.0                              1.0            0.0   \n",
              "\n",
              "   ...  description_290  description_291  description_292  description_293  \\\n",
              "0  ...         0.181073         0.181699        -0.057202        -0.121079   \n",
              "1  ...         0.030400         0.052299        -0.155433        -0.005277   \n",
              "2  ...         0.069049         0.067199        -0.060811        -0.057947   \n",
              "3  ...         0.095487         0.140341        -0.370753         0.049597   \n",
              "4  ...         0.161881         0.017670        -0.034503        -0.115145   \n",
              "\n",
              "   description_294  description_295  description_296  description_297  \\\n",
              "0        -0.054191        -0.376442         0.214094        -0.054375   \n",
              "1        -0.064516        -0.227874         0.201132        -0.052335   \n",
              "2        -0.055386        -0.167582         0.212634         0.128243   \n",
              "3        -0.212015        -0.250834         0.060476        -0.080062   \n",
              "4        -0.055985        -0.169059         0.238166        -0.002234   \n",
              "\n",
              "   description_298  description_299  \n",
              "0        -0.155563        -0.158932  \n",
              "1        -0.246417        -0.090042  \n",
              "2        -0.194125        -0.182664  \n",
              "3        -0.380524        -0.083958  \n",
              "4        -0.292364        -0.097465  \n",
              "\n",
              "[5 rows x 666 columns]"
            ]
          },
          "execution_count": 177,
          "metadata": {},
          "output_type": "execute_result"
        }
      ],
      "source": [
        "courses_features.head(5)"
      ]
    },
    {
      "cell_type": "code",
      "execution_count": 178,
      "metadata": {},
      "outputs": [],
      "source": [
        "courses_features = courses_features.drop(['description','title'],axis = 1)"
      ]
    },
    {
      "cell_type": "code",
      "execution_count": null,
      "metadata": {},
      "outputs": [],
      "source": [
        "courses_features.to_csv('./courses_features_2.csv',sep='^')"
      ]
    }
  ],
  "metadata": {
    "colab": {
      "provenance": []
    },
    "kernelspec": {
      "display_name": "base",
      "language": "python",
      "name": "python3"
    },
    "language_info": {
      "codemirror_mode": {
        "name": "ipython",
        "version": 3
      },
      "file_extension": ".py",
      "mimetype": "text/x-python",
      "name": "python",
      "nbconvert_exporter": "python",
      "pygments_lexer": "ipython3",
      "version": "3.9.13"
    },
    "orig_nbformat": 4,
    "vscode": {
      "interpreter": {
        "hash": "709a940868d52b5e8c89f83b75127a055e05746687d7a40083e4386bdb7c4944"
      }
    }
  },
  "nbformat": 4,
  "nbformat_minor": 0
}
