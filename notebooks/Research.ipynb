{
 "cells": [
  {
   "attachments": {},
   "cell_type": "markdown",
   "metadata": {},
   "source": [
    "## Рекомендательная система курсов дополнительного образования НИУ ВШЭ"
   ]
  },
  {
   "attachments": {},
   "cell_type": "markdown",
   "metadata": {},
   "source": [
    "### Ознакомление с данными и препроцессинг"
   ]
  },
  {
   "attachments": {},
   "cell_type": "markdown",
   "metadata": {},
   "source": [
    "#### Подгрузка библиотек и датасетов"
   ]
  },
  {
   "cell_type": "code",
   "execution_count": 1,
   "metadata": {},
   "outputs": [],
   "source": [
    "import pandas as pd\n",
    "import re\n",
    "import requests\n",
    "from tqdm.auto import tqdm\n",
    "import numpy as np\n",
    "import collections\n",
    "import lightfm\n",
    "import pandas_profiling\n",
    "\n",
    "df = pd.read_csv('./data_t_row_6m.csv')\n",
    "tqdm.pandas(desc='Proccessing_rows')\n",
    "\n",
    "HOME_PAGE = 'https://www.hse.ru/edu/dpo/'\n"
   ]
  },
  {
   "attachments": {},
   "cell_type": "markdown",
   "metadata": {},
   "source": [
    "#### Изучаем строение датасета"
   ]
  },
  {
   "cell_type": "code",
   "execution_count": 2,
   "metadata": {},
   "outputs": [],
   "source": [
    "# pandas_profiling.ProfileReport(df, title=\"Raw Data Profiling Report\").to_file(\"RawDataProfile.html\")"
   ]
  },
  {
   "cell_type": "code",
   "execution_count": 3,
   "metadata": {},
   "outputs": [
    {
     "data": {
      "text/plain": [
       "array(['start_session', 'dom_content_loaded', 'pageview',\n",
       "       'tracker_created', 'window_loaded', 'fingerprint',\n",
       "       'window_unloaded', 'link_click', 'something_clicked',\n",
       "       'button_click', 'radio_change', 'radio_click', 'text_click',\n",
       "       'text_change', 'checkbox_click', 'checkbox_change', 'submit_form',\n",
       "       'tel_click', 'tel_change', 'textarea_click', 'textarea_change',\n",
       "       'email_click', 'email_change', 'file_click', 'file_change',\n",
       "       'search_click', 'search_change', 'form_submit'], dtype=object)"
      ]
     },
     "execution_count": 3,
     "metadata": {},
     "output_type": "execute_result"
    }
   ],
   "source": [
    "df['event_name'].unique()"
   ]
  },
  {
   "cell_type": "code",
   "execution_count": 4,
   "metadata": {},
   "outputs": [
    {
     "data": {
      "text/plain": [
       "['https://webcache.googleusercontent.com/search?q=cache:-Mcy3IiylbMJ:https://www.hse.ru/edu/dpo/578560476&cd=24&hl=ru&ct=clnk&gl=ru',\n",
       " 'https://webcache.googleusercontent.com/search?q=cache:uRmsm8US0PYJ:https://www.hse.ru/edu/dpo/473021647&cd=1&hl=ru&ct=clnk&gl=ru',\n",
       " 'https://webcache.googleusercontent.com/search?q=cache:lLlsWnjAR8MJ:https://www.hse.ru/edu/dpo/494685723&cd=12&hl=ru&ct=clnk&gl=kz']"
      ]
     },
     "execution_count": 4,
     "metadata": {},
     "output_type": "execute_result"
    }
   ],
   "source": [
    "def vaildation(link):\n",
    "    if requests.get(link).status_code != 200:\n",
    "        return None\n",
    "    return link\n",
    "\n",
    "def get_links_that_start_not_with_home_page(x):\n",
    "    if x.find(HOME_PAGE) == 0:\n",
    "        return None\n",
    "    return x\n",
    "\n",
    "target_links = df['current_location'].apply(get_links_that_start_not_with_home_page).unique()\n",
    "valid_links = list()\n",
    "for i in target_links:\n",
    "    if i is not None:\n",
    "        answer = vaildation(i)\n",
    "        if answer is not None:\n",
    "            valid_links.append(answer)\n",
    "\n",
    "valid_links"
   ]
  },
  {
   "attachments": {},
   "cell_type": "markdown",
   "metadata": {},
   "source": [
    "3 ссылки это выбос. Я считаю ими можно пренебречь, чтобы получить приятный инвариант вида: все ссылки начинаются с HOME_PAGE"
   ]
  },
  {
   "attachments": {},
   "cell_type": "markdown",
   "metadata": {},
   "source": [
    "#### Очистка ссылок от лишних key-value параметров"
   ]
  },
  {
   "cell_type": "code",
   "execution_count": 5,
   "metadata": {},
   "outputs": [
    {
     "data": {
      "application/vnd.jupyter.widget-view+json": {
       "model_id": "b311d88432bc487bb08697a7d60770db",
       "version_major": 2,
       "version_minor": 0
      },
      "text/plain": [
       "Proccessing_rows:   0%|          | 0/3684257 [00:00<?, ?it/s]"
      ]
     },
     "metadata": {},
     "output_type": "display_data"
    },
    {
     "data": {
      "application/vnd.jupyter.widget-view+json": {
       "model_id": "a6bd8278e6764121bd3d58dbdb0b501a",
       "version_major": 2,
       "version_minor": 0
      },
      "text/plain": [
       "Proccessing_rows:   0%|          | 0/3684257 [00:00<?, ?it/s]"
      ]
     },
     "metadata": {},
     "output_type": "display_data"
    },
    {
     "data": {
      "application/vnd.jupyter.widget-view+json": {
       "model_id": "9180525ad4de47489591164ff6521804",
       "version_major": 2,
       "version_minor": 0
      },
      "text/plain": [
       "Proccessing_rows:   0%|          | 0/3684257 [00:00<?, ?it/s]"
      ]
     },
     "metadata": {},
     "output_type": "display_data"
    },
    {
     "data": {
      "application/vnd.jupyter.widget-view+json": {
       "model_id": "39ec1d34bf174350a6bd1a6713cb0910",
       "version_major": 2,
       "version_minor": 0
      },
      "text/plain": [
       "Proccessing_rows:   0%|          | 0/3684257 [00:00<?, ?it/s]"
      ]
     },
     "metadata": {},
     "output_type": "display_data"
    },
    {
     "name": "stdout",
     "output_type": "stream",
     "text": [
      "clear_location: 2255 \n",
      "current_location: 63026\n"
     ]
    }
   ],
   "source": [
    "df['clear_location'] = df['current_location'].progress_apply(lambda x: x.split('?')[0]).progress_apply(lambda x: x.split(':~:text')[0]).progress_apply(lambda x: re.sub('/#', '#', x)).progress_apply(lambda x: re.sub('[#/]$', '', x))\n",
    "print(\"clear_location:\", len(df['clear_location'].unique()), \"\\ncurrent_location:\", len(df['current_location'].unique()), sep=\" \")"
   ]
  },
  {
   "attachments": {},
   "cell_type": "markdown",
   "metadata": {},
   "source": [
    "#### Отсоединение якорей от ссылок:"
   ]
  },
  {
   "cell_type": "code",
   "execution_count": 6,
   "metadata": {},
   "outputs": [
    {
     "name": "stdout",
     "output_type": "stream",
     "text": [
      "clear_location_with_anchors: 2255\n"
     ]
    },
    {
     "data": {
      "application/vnd.jupyter.widget-view+json": {
       "model_id": "df55728ffd2a4fbea7655366017377db",
       "version_major": 2,
       "version_minor": 0
      },
      "text/plain": [
       "Proccessing_rows:   0%|          | 0/3684257 [00:00<?, ?it/s]"
      ]
     },
     "metadata": {},
     "output_type": "display_data"
    },
    {
     "data": {
      "application/vnd.jupyter.widget-view+json": {
       "model_id": "24799c50150d4984aa6a00eb3e606683",
       "version_major": 2,
       "version_minor": 0
      },
      "text/plain": [
       "Proccessing_rows:   0%|          | 0/3684257 [00:00<?, ?it/s]"
      ]
     },
     "metadata": {},
     "output_type": "display_data"
    },
    {
     "data": {
      "application/vnd.jupyter.widget-view+json": {
       "model_id": "f6a1d865ea0d459d90a8ac898e2b434a",
       "version_major": 2,
       "version_minor": 0
      },
      "text/plain": [
       "Proccessing_rows:   0%|          | 0/3684257 [00:00<?, ?it/s]"
      ]
     },
     "metadata": {},
     "output_type": "display_data"
    },
    {
     "name": "stdout",
     "output_type": "stream",
     "text": [
      "clear_location_without_anchors: 816\n"
     ]
    }
   ],
   "source": [
    "def get_anchor(link):\n",
    "    if link is None:\n",
    "        return None\n",
    "    arr = link.split(sep='#')\n",
    "    arr.append(None)\n",
    "    return arr[1]\n",
    "\n",
    "def del_anchor(link):\n",
    "    if link is None:\n",
    "        return None\n",
    "    arr = link.split(sep='#')\n",
    "    return arr[0]\n",
    "\n",
    "print (\"clear_location_with_anchors:\", len(df['clear_location'].unique()), sep = \" \")\n",
    "df['anchor'] = df['clear_location'].progress_apply(lambda x: re.sub('%23', '#', x)).progress_apply(get_anchor)\n",
    "df['clear_location'] = df['clear_location'].progress_apply(del_anchor)\n",
    "print (\"clear_location_without_anchors:\", len(df['clear_location'].unique()), sep = \" \")"
   ]
  },
  {
   "cell_type": "code",
   "execution_count": 1,
   "metadata": {},
   "outputs": [],
   "source": [
    "df['clear_location'].unique().tolist()"
   ]
  },
  {
   "cell_type": "code",
   "execution_count": 8,
   "metadata": {},
   "outputs": [
    {
     "data": {
      "text/plain": [
       "129"
      ]
     },
     "execution_count": 8,
     "metadata": {},
     "output_type": "execute_result"
    }
   ],
   "source": [
    "len(df['anchor'].unique())"
   ]
  },
  {
   "cell_type": "code",
   "execution_count": 9,
   "metadata": {},
   "outputs": [
    {
     "data": {
      "text/plain": [
       "[None,\n",
       " 'contacts',\n",
       " 'price',\n",
       " 'teachers',\n",
       " 'programm',\n",
       " 'foreword',\n",
       " 'schedule',\n",
       " 'programme',\n",
       " 'program',\n",
       " 'process',\n",
       " 'about',\n",
       " 'staff',\n",
       " 'who',\n",
       " 'speakers',\n",
       " 'graduates',\n",
       " 'valueproposition',\n",
       " 'doc',\n",
       " 'documents',\n",
       " 'feedback',\n",
       " 'reviews',\n",
       " 'skills',\n",
       " 'document',\n",
       " 'student',\n",
       " 'us',\n",
       " 'get',\n",
       " 'you',\n",
       " 'results',\n",
       " 'forwhom',\n",
       " 'prog',\n",
       " 'prog1',\n",
       " 'prog3',\n",
       " 'tex8',\n",
       " 'audience',\n",
       " 'comments',\n",
       " 'advantages',\n",
       " 'graduate',\n",
       " 'priceandterms',\n",
       " 'prepodavateli',\n",
       " 'for',\n",
       " 'terms',\n",
       " 'studyformat',\n",
       " 'important',\n",
       " 'programma',\n",
       " 'students',\n",
       " 'auditory',\n",
       " 'contact',\n",
       " 'format',\n",
       " 'obuchenie',\n",
       " 'certificate',\n",
       " 'we',\n",
       " 'technology',\n",
       " 'timetable',\n",
       " 'tex5',\n",
       " 'tutors',\n",
       " 'teacher',\n",
       " 'online',\n",
       " 'programe',\n",
       " 'dokument',\n",
       " 'test',\n",
       " 'review',\n",
       " 'cousresandauthors',\n",
       " 'teach',\n",
       " 'block',\n",
       " 'cost',\n",
       " 'zayvka',\n",
       " 'contakt',\n",
       " 'tex3',\n",
       " 'tex4',\n",
       " 'tex7',\n",
       " 'exam',\n",
       " 'oid1',\n",
       " 'anchor',\n",
       " 'prof',\n",
       " 'oid3',\n",
       " 'abitur',\n",
       " 'education',\n",
       " 'contactus',\n",
       " 'tex1',\n",
       " 'tex6',\n",
       " 'tex9',\n",
       " 'contents',\n",
       " 'prepod',\n",
       " 'passport',\n",
       " 'teaching',\n",
       " 'oid2',\n",
       " 'faq',\n",
       " 'tex2',\n",
       " 'course',\n",
       " 'reference',\n",
       " 'gid=0',\n",
       " 'reception',\n",
       " 'for_whom',\n",
       " 'cont',\n",
       " 'qa',\n",
       " 'target',\n",
       " 'benefits',\n",
       " 'rec222741485',\n",
       " 'content',\n",
       " 'after',\n",
       " '2',\n",
       " '4',\n",
       " 'for%20whom',\n",
       " 'rec225539020',\n",
       " '6',\n",
       " 'interiors',\n",
       " 'competition',\n",
       " 'modal__container',\n",
       " 'modal',\n",
       " 'container',\n",
       " 'modal-application-title',\n",
       " 'true',\n",
       " '3',\n",
       " 'pass-express-poll__h1',\n",
       " 'pass-express-poll',\n",
       " 'dialog',\n",
       " '-1',\n",
       " 'widgetPassExpressPoll',\n",
       " 'raw-element-placeholder%20widgetPassExpressPoll',\n",
       " 'raw-element-placeholder',\n",
       " 'popup:myform',\n",
       " ':%7E:text=%D0%9F%D1%80%D0%BE%D0%B3%D1%80%D0%B0%D0%BC%D0%BC%D0%B0%20%22%D0%A1%D0%B0%D0%BD%D0%BA%D1%86%D0%B8%D0%BE%D0%BD%D0%BD%D1%8B%D0%B9%20%D0%BA%D0%BE%D0%BC%D0%BF%D0%BB%D0%B0%D0%B5%D0%BD%D1%81%22%20%D0%BF%D1%80%D0%B5%D0%B4%D1%81%D1%82%D0%B0%D0%B2%D0%BB%D1%8F%D0%B5%D1%82%20%D1%81%D0%BE%D0%B1%D0%BE%D0%B9,%D0%BF%D1%80%D0%B0%D0%BA%D1%82%D0%B8%D0%BA%D1%83%20%D0%B2%20%D0%BE%D0%B1%D0%BB%D0%B0%D1%81%D1%82%D0%B8%20%D1%8D%D0%BA%D0%BE%D0%BD%D0%BE%D0%BC%D0%B8%D1%87%D0%B5%D1%81%D0%BA%D0%B8%D1%85%20%D1%81%D0%B0%D0%BD%D0%BA%D1%86%D0%B8%D0%B9',\n",
       " '',\n",
       " 'apply',\n",
       " 'purpose',\n",
       " 'employment',\n",
       " 'programme|',\n",
       " 'programme%7C',\n",
       " 'form',\n",
       " 'partners']"
      ]
     },
     "execution_count": 9,
     "metadata": {},
     "output_type": "execute_result"
    }
   ],
   "source": [
    "df['anchor'].unique().tolist()"
   ]
  },
  {
   "attachments": {},
   "cell_type": "markdown",
   "metadata": {},
   "source": [
    "#### Удаляем невалидные ссылки (404)"
   ]
  },
  {
   "attachments": {},
   "cell_type": "markdown",
   "metadata": {},
   "source": [
    "Отфильтруем ссылки на валидность:"
   ]
  },
  {
   "cell_type": "code",
   "execution_count": 10,
   "metadata": {},
   "outputs": [],
   "source": [
    "clear_location = df['clear_location'].unique()\n",
    "clear_valid_location = dict()"
   ]
  },
  {
   "cell_type": "code",
   "execution_count": 11,
   "metadata": {},
   "outputs": [
    {
     "data": {
      "application/vnd.jupyter.widget-view+json": {
       "model_id": "7c739769d1504ed5868cdd2f88282d42",
       "version_major": 2,
       "version_minor": 0
      },
      "text/plain": [
       "  0%|          | 0/816 [00:00<?, ?it/s]"
      ]
     },
     "metadata": {},
     "output_type": "display_data"
    }
   ],
   "source": [
    "keys = clear_valid_location.keys()\n",
    "\n",
    "for link in tqdm(clear_location):\n",
    "    if link not in keys:\n",
    "        clear_valid_location[link] = vaildation(link)"
   ]
  },
  {
   "cell_type": "code",
   "execution_count": 12,
   "metadata": {},
   "outputs": [],
   "source": [
    "df['clear_valid_location'] = df['clear_location'].apply(lambda x: clear_valid_location[x])"
   ]
  },
  {
   "attachments": {},
   "cell_type": "markdown",
   "metadata": {},
   "source": [
    "Кол-во валидных чистых ссылок:"
   ]
  },
  {
   "cell_type": "code",
   "execution_count": 13,
   "metadata": {},
   "outputs": [
    {
     "data": {
      "text/plain": [
       "571"
      ]
     },
     "execution_count": 13,
     "metadata": {},
     "output_type": "execute_result"
    }
   ],
   "source": [
    "len(df['clear_valid_location'].unique())"
   ]
  },
  {
   "cell_type": "code",
   "execution_count": 2,
   "metadata": {},
   "outputs": [],
   "source": [
    "df['clear_valid_location'].unique().tolist()"
   ]
  },
  {
   "attachments": {},
   "cell_type": "markdown",
   "metadata": {},
   "source": [
    "### Исследование"
   ]
  },
  {
   "attachments": {},
   "cell_type": "markdown",
   "metadata": {},
   "source": [
    "#### Garbage"
   ]
  },
  {
   "cell_type": "code",
   "execution_count": 15,
   "metadata": {},
   "outputs": [
    {
     "data": {
      "text/plain": [
       "event_name    59\n",
       "dtype: int64"
      ]
     },
     "execution_count": 15,
     "metadata": {},
     "output_type": "execute_result"
    }
   ],
   "source": [
    "df.groupby('clear_valid_location').agg({'event_name':lambda x: (x == 'start_session').sum()}).query('event_name == 0').count()"
   ]
  },
  {
   "cell_type": "code",
   "execution_count": 16,
   "metadata": {},
   "outputs": [
    {
     "data": {
      "text/plain": [
       "https://www.hse.ru/edu/dpo/482696965    80019\n",
       "https://www.hse.ru/edu/dpo/480913829    77686\n",
       "https://www.hse.ru/edu/dpo/486313491    65648\n",
       "https://www.hse.ru/edu/dpo/471334078    58628\n",
       "https://www.hse.ru/edu/dpo/463201113    47321\n",
       "                                        ...  \n",
       "https://www.hse.ru/edu/dpo/662143923        6\n",
       "https://www.hse.ru/edu/dpo/465488437        6\n",
       "https://www.hse.ru/edu/dpo/465492063        5\n",
       "https://www.hse.ru/edu/dpo/465140634        5\n",
       "https://www.hse.ru/edu/dpo/589486554        4\n",
       "Name: clear_valid_location, Length: 570, dtype: int64"
      ]
     },
     "execution_count": 16,
     "metadata": {},
     "output_type": "execute_result"
    }
   ],
   "source": [
    "df['clear_valid_location'].value_counts()"
   ]
  },
  {
   "cell_type": "code",
   "execution_count": 17,
   "metadata": {},
   "outputs": [
    {
     "data": {
      "text/plain": [
       "482696965    80019\n",
       "480913829    77686\n",
       "486313491    65648\n",
       "471334078    58628\n",
       "463201113    47321\n",
       "             ...  \n",
       "662143923        6\n",
       "465488437        6\n",
       "465492063        5\n",
       "465140634        5\n",
       "589486554        4\n",
       "Name: clear_valid_location, Length: 570, dtype: int64"
      ]
     },
     "execution_count": 17,
     "metadata": {},
     "output_type": "execute_result"
    }
   ],
   "source": [
    "def GetCourseIdFromLink(link: str):\n",
    "    if link == None:\n",
    "        return None\n",
    "    if link.find(HOME_PAGE) != 0:\n",
    "        return None\n",
    "    start = len(HOME_PAGE)\n",
    "    end = start\n",
    "    while end != len(link) and link[end].isnumeric():\n",
    "        end += 1\n",
    "    return link[start:end]\n",
    "    \n",
    "df['clear_valid_location'].apply(GetCourseIdFromLink).value_counts()"
   ]
  },
  {
   "cell_type": "code",
   "execution_count": 18,
   "metadata": {},
   "outputs": [
    {
     "data": {
      "text/plain": [
       "<AxesSubplot:>"
      ]
     },
     "execution_count": 18,
     "metadata": {},
     "output_type": "execute_result"
    },
    {
     "data": {
      "image/png": "[encoded data removed]",
      "text/plain": [
       "<Figure size 640x480 with 1 Axes>"
      ]
     },
     "metadata": {},
     "output_type": "display_data"
    }
   ],
   "source": [
    "df['second_id'] = df.user_id.map(lambda x: x.split('|')[1])\n",
    "df.groupby('second_id').clear_valid_location.nunique().to_frame().query(\"clear_valid_location >=5\").sort_values('clear_valid_location').plot.box(showfliers=False)"
   ]
  },
  {
   "attachments": {},
   "cell_type": "markdown",
   "metadata": {},
   "source": [
    "#### Исследование данных для расстановки весов"
   ]
  },
  {
   "cell_type": "code",
   "execution_count": 19,
   "metadata": {},
   "outputs": [
    {
     "data": {
      "text/plain": [
       "price               90\n",
       "programme           62\n",
       "about               54\n",
       "contacts            43\n",
       "program             33\n",
       "schedule            16\n",
       "teachers            14\n",
       "speakers             9\n",
       "technology           8\n",
       "you                  6\n",
       "graduates            5\n",
       "documents            5\n",
       "process              4\n",
       "comments             4\n",
       "tutors               4\n",
       "format               3\n",
       "faq                  2\n",
       "valueproposition     2\n",
       "interiors            2\n",
       "feedback             1\n",
       "prepod               1\n",
       "priceandterms        1\n",
       "us                   1\n",
       "forwhom              1\n",
       "tex8                 1\n",
       "who                  1\n",
       "teacher              1\n",
       "programm             1\n",
       "skills               1\n",
       "review               1\n",
       "reviews              1\n",
       "students             1\n",
       "results              1\n",
       "terms                1\n",
       "staff                1\n",
       "document             1\n",
       "Name: anchor, dtype: int64"
      ]
     },
     "execution_count": 19,
     "metadata": {},
     "output_type": "execute_result"
    }
   ],
   "source": [
    "df[df['event_name'] == 'submit_form']['anchor'].value_counts()"
   ]
  },
  {
   "cell_type": "code",
   "execution_count": 21,
   "metadata": {},
   "outputs": [
    {
     "data": {
      "text/plain": [
       "(3684257, 8)"
      ]
     },
     "execution_count": 21,
     "metadata": {},
     "output_type": "execute_result"
    }
   ],
   "source": [
    "df.shape"
   ]
  },
  {
   "cell_type": "code",
   "execution_count": 22,
   "metadata": {},
   "outputs": [],
   "source": [
    "user_sessions = collections.defaultdict(list)\n",
    "\n",
    "for _, row in df.sort_values(by=['event_timestamp']).iterrows():\n",
    "    if row['second_id'] == None or row['second_id'] == 'none':\n",
    "        continue\n",
    "    if len(user_sessions[row['second_id']]) == 0 or row['event_name'] == 'start_session':\n",
    "        user_sessions[row['second_id']].append(list())\n",
    "    user_sessions[row['second_id']][-1].append(row['event_name'])"
   ]
  },
  {
   "cell_type": "code",
   "execution_count": 3,
   "metadata": {},
   "outputs": [],
   "source": [
    "for l in user_sessions.values():\n",
    "    for session in l:\n",
    "        if len(session) > 1:\n",
    "            print(session)\n"
   ]
  },
  {
   "attachments": {},
   "cell_type": "markdown",
   "metadata": {},
   "source": [
    "### Построение матрицы взаимодейтсвий"
   ]
  },
  {
   "cell_type": "code",
   "execution_count": 23,
   "metadata": {},
   "outputs": [],
   "source": [
    "df = df.dropna(subset=['clear_valid_location', 'second_id'])\n",
    "df = df[df['second_id'] != 'none']"
   ]
  },
  {
   "cell_type": "code",
   "execution_count": 28,
   "metadata": {},
   "outputs": [],
   "source": [
    "df = df.dropna(subset=['clear_valid_location', 'second_id'])\n",
    "df = df[df['second_id'] != 'none']\n",
    "\n",
    "courses = df[\"clear_valid_location\"].unique()\n",
    "users = df[\"second_id\"].unique()\n",
    "banned_users = list()\n",
    "\n",
    "for user, sessions in user_sessions.items():\n",
    "    is_banned = True\n",
    "    for session in sessions:\n",
    "        if len(session) >= 1:\n",
    "            is_banned = False\n",
    "            break\n",
    "    if is_banned:\n",
    "        banned_users.append(user)\n",
    "\n",
    "users = list(set(users.tolist()).symmetric_difference(set(banned_users)))"
   ]
  },
  {
   "attachments": {},
   "cell_type": "markdown",
   "metadata": {},
   "source": [
    "Отсутствие взаимодействия --- 0 \\\n",
    "Посетил страницу --- 0.1 \\\n",
    "Наличие якорей --- от 0.13 до 0.4, функция логарифм от кол-ва якорей с достаточно большим основанием \\\n",
    "Что-то нажато + нажатие кнопок разных типов --- добавляет к сумме сколько-то за каждое нажатие\n",
    "\n",
    "Отправка вопроса --- 0.6 \\\n",
    "Отправка формы --- 1"
   ]
  },
  {
   "cell_type": "code",
   "execution_count": 29,
   "metadata": {},
   "outputs": [],
   "source": [
    "df_grouped_by_id = df.groupby(['second_id', 'clear_valid_location'])\n",
    "interactions = pd.DataFrame(0, columns=courses, index=users)"
   ]
  },
  {
   "cell_type": "code",
   "execution_count": null,
   "metadata": {},
   "outputs": [],
   "source": [
    "browser_events = ['start_session', 'fingerprint', 'tracker_created', 'dom_content_loaded']\n",
    "\n",
    "def get_coef(user, course):\n",
    "    coef = 0\n",
    "\n",
    "    cur_inter = df_grouped_by_id.get_group((user, course))\n",
    "\n",
    "    # Если пользователь хоть раз посетил сразу добавляем 0.1\n",
    "    if cur_inter.shape[0] != 0:\n",
    "        coef += 0.08\n",
    "    \n",
    "    cur_inter = cur_inter.query('event_name not in @browser_events')\n",
    "    # + за каждый эвент на странице\n",
    "    coef += min(0.2, np.log(cur_inter.shape[0] + 1) * 0.4 / np.log(100000))\n",
    "\n",
    "    anchors = cur_inter['anchor'].unique()\n",
    "    # + за каждую ссылку с якорем\n",
    "    coef += min(0.4, np.log(len(anchors) + 1) / np.log(1000))\n",
    "\n",
    "    events = cur_inter['event_name'].unique()\n",
    "    # +1 за форму, т.к. самый сильный тип взаимодействия\n",
    "    if 'submit_form' in events or 'form_submit' in events:\n",
    "        coef += 1\n",
    "    \n",
    "    return coef\n",
    "\n",
    "for user, course in df_grouped_by_id.groups.keys():\n",
    "    interactions.loc[user, course] = get_coef(user, course)"
   ]
  },
  {
   "cell_type": "code",
   "execution_count": null,
   "metadata": {},
   "outputs": [
    {
     "data": {
      "text/html": [
       "<div>\n",
       "<style scoped>\n",
       "    .dataframe tbody tr th:only-of-type {\n",
       "        vertical-align: middle;\n",
       "    }\n",
       "\n",
       "    .dataframe tbody tr th {\n",
       "        vertical-align: top;\n",
       "    }\n",
       "\n",
       "    .dataframe thead th {\n",
       "        text-align: right;\n",
       "    }\n",
       "</style>\n",
       "<table border=\"1\" class=\"dataframe\">\n",
       "  <thead>\n",
       "    <tr style=\"text-align: right;\">\n",
       "      <th></th>\n",
       "      <th>https://www.hse.ru/edu/dpo/463158543</th>\n",
       "      <th>https://www.hse.ru/edu/dpo/480913728</th>\n",
       "      <th>https://www.hse.ru/edu/dpo/486319561</th>\n",
       "      <th>https://www.hse.ru/edu/dpo/471334078</th>\n",
       "      <th>https://www.hse.ru/edu/dpo/480508962</th>\n",
       "      <th>https://www.hse.ru/edu/dpo/595545243</th>\n",
       "      <th>https://www.hse.ru/edu/dpo/480913829</th>\n",
       "      <th>https://www.hse.ru/edu/dpo/465317778</th>\n",
       "      <th>https://www.hse.ru/edu/dpo/446316061</th>\n",
       "      <th>https://www.hse.ru/edu/dpo/472498353</th>\n",
       "      <th>...</th>\n",
       "      <th>https://www.hse.ru/edu/dpo/789900533</th>\n",
       "      <th>https://www.hse.ru/edu/dpo/465487598</th>\n",
       "      <th>https://www.hse.ru/edu/dpo/773679259</th>\n",
       "      <th>https://www.hse.ru/edu/dpo/465488207</th>\n",
       "      <th>https://www.hse.ru/edu/dpo/793917085</th>\n",
       "      <th>https://www.hse.ru/edu/dpo/589486554</th>\n",
       "      <th>https://www.hse.ru/edu/dpo/796311892</th>\n",
       "      <th>https://www.hse.ru/edu/dpo/795955343</th>\n",
       "      <th>https://www.hse.ru/edu/dpo/795955345</th>\n",
       "      <th>https://www.hse.ru/edu/dpo/797392978</th>\n",
       "    </tr>\n",
       "  </thead>\n",
       "  <tbody>\n",
       "    <tr>\n",
       "      <th>166826354536403284</th>\n",
       "      <td>0.0</td>\n",
       "      <td>0.0</td>\n",
       "      <td>0.000000</td>\n",
       "      <td>0.0</td>\n",
       "      <td>0.0</td>\n",
       "      <td>0.0</td>\n",
       "      <td>0.0</td>\n",
       "      <td>0.0</td>\n",
       "      <td>0.0</td>\n",
       "      <td>0.0</td>\n",
       "      <td>...</td>\n",
       "      <td>0.0</td>\n",
       "      <td>0.0</td>\n",
       "      <td>0.0</td>\n",
       "      <td>0.0</td>\n",
       "      <td>0.0</td>\n",
       "      <td>0.0</td>\n",
       "      <td>0.0</td>\n",
       "      <td>0.0</td>\n",
       "      <td>0.0</td>\n",
       "      <td>0.0</td>\n",
       "    </tr>\n",
       "    <tr>\n",
       "      <th>1659090028176813185</th>\n",
       "      <td>0.0</td>\n",
       "      <td>0.0</td>\n",
       "      <td>0.000000</td>\n",
       "      <td>0.0</td>\n",
       "      <td>0.0</td>\n",
       "      <td>0.0</td>\n",
       "      <td>0.0</td>\n",
       "      <td>0.0</td>\n",
       "      <td>0.0</td>\n",
       "      <td>0.0</td>\n",
       "      <td>...</td>\n",
       "      <td>0.0</td>\n",
       "      <td>0.0</td>\n",
       "      <td>0.0</td>\n",
       "      <td>0.0</td>\n",
       "      <td>0.0</td>\n",
       "      <td>0.0</td>\n",
       "      <td>0.0</td>\n",
       "      <td>0.0</td>\n",
       "      <td>0.0</td>\n",
       "      <td>0.0</td>\n",
       "    </tr>\n",
       "    <tr>\n",
       "      <th>1662653630805002670</th>\n",
       "      <td>0.0</td>\n",
       "      <td>0.0</td>\n",
       "      <td>0.218513</td>\n",
       "      <td>0.0</td>\n",
       "      <td>0.0</td>\n",
       "      <td>0.0</td>\n",
       "      <td>0.0</td>\n",
       "      <td>0.0</td>\n",
       "      <td>0.0</td>\n",
       "      <td>0.0</td>\n",
       "      <td>...</td>\n",
       "      <td>0.0</td>\n",
       "      <td>0.0</td>\n",
       "      <td>0.0</td>\n",
       "      <td>0.0</td>\n",
       "      <td>0.0</td>\n",
       "      <td>0.0</td>\n",
       "      <td>0.0</td>\n",
       "      <td>0.0</td>\n",
       "      <td>0.0</td>\n",
       "      <td>0.0</td>\n",
       "    </tr>\n",
       "    <tr>\n",
       "      <th>1667388264394057150</th>\n",
       "      <td>0.0</td>\n",
       "      <td>0.0</td>\n",
       "      <td>0.000000</td>\n",
       "      <td>0.0</td>\n",
       "      <td>0.0</td>\n",
       "      <td>0.0</td>\n",
       "      <td>0.0</td>\n",
       "      <td>0.0</td>\n",
       "      <td>0.0</td>\n",
       "      <td>0.0</td>\n",
       "      <td>...</td>\n",
       "      <td>0.0</td>\n",
       "      <td>0.0</td>\n",
       "      <td>0.0</td>\n",
       "      <td>0.0</td>\n",
       "      <td>0.0</td>\n",
       "      <td>0.0</td>\n",
       "      <td>0.0</td>\n",
       "      <td>0.0</td>\n",
       "      <td>0.0</td>\n",
       "      <td>0.0</td>\n",
       "    </tr>\n",
       "    <tr>\n",
       "      <th>1666014310920836055</th>\n",
       "      <td>0.0</td>\n",
       "      <td>0.0</td>\n",
       "      <td>0.000000</td>\n",
       "      <td>0.0</td>\n",
       "      <td>0.0</td>\n",
       "      <td>0.0</td>\n",
       "      <td>0.0</td>\n",
       "      <td>0.0</td>\n",
       "      <td>0.0</td>\n",
       "      <td>0.0</td>\n",
       "      <td>...</td>\n",
       "      <td>0.0</td>\n",
       "      <td>0.0</td>\n",
       "      <td>0.0</td>\n",
       "      <td>0.0</td>\n",
       "      <td>0.0</td>\n",
       "      <td>0.0</td>\n",
       "      <td>0.0</td>\n",
       "      <td>0.0</td>\n",
       "      <td>0.0</td>\n",
       "      <td>0.0</td>\n",
       "    </tr>\n",
       "    <tr>\n",
       "      <th>...</th>\n",
       "      <td>...</td>\n",
       "      <td>...</td>\n",
       "      <td>...</td>\n",
       "      <td>...</td>\n",
       "      <td>...</td>\n",
       "      <td>...</td>\n",
       "      <td>...</td>\n",
       "      <td>...</td>\n",
       "      <td>...</td>\n",
       "      <td>...</td>\n",
       "      <td>...</td>\n",
       "      <td>...</td>\n",
       "      <td>...</td>\n",
       "      <td>...</td>\n",
       "      <td>...</td>\n",
       "      <td>...</td>\n",
       "      <td>...</td>\n",
       "      <td>...</td>\n",
       "      <td>...</td>\n",
       "      <td>...</td>\n",
       "      <td>...</td>\n",
       "    </tr>\n",
       "    <tr>\n",
       "      <th>1662407034258674228</th>\n",
       "      <td>0.0</td>\n",
       "      <td>0.0</td>\n",
       "      <td>0.000000</td>\n",
       "      <td>0.0</td>\n",
       "      <td>0.0</td>\n",
       "      <td>0.0</td>\n",
       "      <td>0.0</td>\n",
       "      <td>0.0</td>\n",
       "      <td>0.0</td>\n",
       "      <td>0.0</td>\n",
       "      <td>...</td>\n",
       "      <td>0.0</td>\n",
       "      <td>0.0</td>\n",
       "      <td>0.0</td>\n",
       "      <td>0.0</td>\n",
       "      <td>0.0</td>\n",
       "      <td>0.0</td>\n",
       "      <td>0.0</td>\n",
       "      <td>0.0</td>\n",
       "      <td>0.0</td>\n",
       "      <td>0.0</td>\n",
       "    </tr>\n",
       "    <tr>\n",
       "      <th>1665826640406257416</th>\n",
       "      <td>0.0</td>\n",
       "      <td>0.0</td>\n",
       "      <td>0.000000</td>\n",
       "      <td>0.0</td>\n",
       "      <td>0.0</td>\n",
       "      <td>0.0</td>\n",
       "      <td>0.0</td>\n",
       "      <td>0.0</td>\n",
       "      <td>0.0</td>\n",
       "      <td>0.0</td>\n",
       "      <td>...</td>\n",
       "      <td>0.0</td>\n",
       "      <td>0.0</td>\n",
       "      <td>0.0</td>\n",
       "      <td>0.0</td>\n",
       "      <td>0.0</td>\n",
       "      <td>0.0</td>\n",
       "      <td>0.0</td>\n",
       "      <td>0.0</td>\n",
       "      <td>0.0</td>\n",
       "      <td>0.0</td>\n",
       "    </tr>\n",
       "    <tr>\n",
       "      <th>166680056086770561</th>\n",
       "      <td>0.0</td>\n",
       "      <td>0.0</td>\n",
       "      <td>0.000000</td>\n",
       "      <td>0.0</td>\n",
       "      <td>0.0</td>\n",
       "      <td>0.0</td>\n",
       "      <td>0.0</td>\n",
       "      <td>0.0</td>\n",
       "      <td>0.0</td>\n",
       "      <td>0.0</td>\n",
       "      <td>...</td>\n",
       "      <td>0.0</td>\n",
       "      <td>0.0</td>\n",
       "      <td>0.0</td>\n",
       "      <td>0.0</td>\n",
       "      <td>0.0</td>\n",
       "      <td>0.0</td>\n",
       "      <td>0.0</td>\n",
       "      <td>0.0</td>\n",
       "      <td>0.0</td>\n",
       "      <td>0.0</td>\n",
       "    </tr>\n",
       "    <tr>\n",
       "      <th>1668189827160039838</th>\n",
       "      <td>0.0</td>\n",
       "      <td>0.0</td>\n",
       "      <td>0.000000</td>\n",
       "      <td>0.0</td>\n",
       "      <td>0.0</td>\n",
       "      <td>0.0</td>\n",
       "      <td>0.0</td>\n",
       "      <td>0.0</td>\n",
       "      <td>0.0</td>\n",
       "      <td>0.0</td>\n",
       "      <td>...</td>\n",
       "      <td>0.0</td>\n",
       "      <td>0.0</td>\n",
       "      <td>0.0</td>\n",
       "      <td>0.0</td>\n",
       "      <td>0.0</td>\n",
       "      <td>0.0</td>\n",
       "      <td>0.0</td>\n",
       "      <td>0.0</td>\n",
       "      <td>0.0</td>\n",
       "      <td>0.0</td>\n",
       "    </tr>\n",
       "    <tr>\n",
       "      <th>1664369492837714356</th>\n",
       "      <td>0.0</td>\n",
       "      <td>0.0</td>\n",
       "      <td>0.000000</td>\n",
       "      <td>0.0</td>\n",
       "      <td>0.0</td>\n",
       "      <td>0.0</td>\n",
       "      <td>0.0</td>\n",
       "      <td>0.0</td>\n",
       "      <td>0.0</td>\n",
       "      <td>0.0</td>\n",
       "      <td>...</td>\n",
       "      <td>0.0</td>\n",
       "      <td>0.0</td>\n",
       "      <td>0.0</td>\n",
       "      <td>0.0</td>\n",
       "      <td>0.0</td>\n",
       "      <td>0.0</td>\n",
       "      <td>0.0</td>\n",
       "      <td>0.0</td>\n",
       "      <td>0.0</td>\n",
       "      <td>0.0</td>\n",
       "    </tr>\n",
       "  </tbody>\n",
       "</table>\n",
       "<p>166890 rows × 570 columns</p>\n",
       "</div>"
      ],
      "text/plain": [
       "                     https://www.hse.ru/edu/dpo/463158543  \\\n",
       "166826354536403284                                    0.0   \n",
       "1659090028176813185                                   0.0   \n",
       "1662653630805002670                                   0.0   \n",
       "1667388264394057150                                   0.0   \n",
       "1666014310920836055                                   0.0   \n",
       "...                                                   ...   \n",
       "1662407034258674228                                   0.0   \n",
       "1665826640406257416                                   0.0   \n",
       "166680056086770561                                    0.0   \n",
       "1668189827160039838                                   0.0   \n",
       "1664369492837714356                                   0.0   \n",
       "\n",
       "                     https://www.hse.ru/edu/dpo/480913728  \\\n",
       "166826354536403284                                    0.0   \n",
       "1659090028176813185                                   0.0   \n",
       "1662653630805002670                                   0.0   \n",
       "1667388264394057150                                   0.0   \n",
       "1666014310920836055                                   0.0   \n",
       "...                                                   ...   \n",
       "1662407034258674228                                   0.0   \n",
       "1665826640406257416                                   0.0   \n",
       "166680056086770561                                    0.0   \n",
       "1668189827160039838                                   0.0   \n",
       "1664369492837714356                                   0.0   \n",
       "\n",
       "                     https://www.hse.ru/edu/dpo/486319561  \\\n",
       "166826354536403284                               0.000000   \n",
       "1659090028176813185                              0.000000   \n",
       "1662653630805002670                              0.218513   \n",
       "1667388264394057150                              0.000000   \n",
       "1666014310920836055                              0.000000   \n",
       "...                                                   ...   \n",
       "1662407034258674228                              0.000000   \n",
       "1665826640406257416                              0.000000   \n",
       "166680056086770561                               0.000000   \n",
       "1668189827160039838                              0.000000   \n",
       "1664369492837714356                              0.000000   \n",
       "\n",
       "                     https://www.hse.ru/edu/dpo/471334078  \\\n",
       "166826354536403284                                    0.0   \n",
       "1659090028176813185                                   0.0   \n",
       "1662653630805002670                                   0.0   \n",
       "1667388264394057150                                   0.0   \n",
       "1666014310920836055                                   0.0   \n",
       "...                                                   ...   \n",
       "1662407034258674228                                   0.0   \n",
       "1665826640406257416                                   0.0   \n",
       "166680056086770561                                    0.0   \n",
       "1668189827160039838                                   0.0   \n",
       "1664369492837714356                                   0.0   \n",
       "\n",
       "                     https://www.hse.ru/edu/dpo/480508962  \\\n",
       "166826354536403284                                    0.0   \n",
       "1659090028176813185                                   0.0   \n",
       "1662653630805002670                                   0.0   \n",
       "1667388264394057150                                   0.0   \n",
       "1666014310920836055                                   0.0   \n",
       "...                                                   ...   \n",
       "1662407034258674228                                   0.0   \n",
       "1665826640406257416                                   0.0   \n",
       "166680056086770561                                    0.0   \n",
       "1668189827160039838                                   0.0   \n",
       "1664369492837714356                                   0.0   \n",
       "\n",
       "                     https://www.hse.ru/edu/dpo/595545243  \\\n",
       "166826354536403284                                    0.0   \n",
       "1659090028176813185                                   0.0   \n",
       "1662653630805002670                                   0.0   \n",
       "1667388264394057150                                   0.0   \n",
       "1666014310920836055                                   0.0   \n",
       "...                                                   ...   \n",
       "1662407034258674228                                   0.0   \n",
       "1665826640406257416                                   0.0   \n",
       "166680056086770561                                    0.0   \n",
       "1668189827160039838                                   0.0   \n",
       "1664369492837714356                                   0.0   \n",
       "\n",
       "                     https://www.hse.ru/edu/dpo/480913829  \\\n",
       "166826354536403284                                    0.0   \n",
       "1659090028176813185                                   0.0   \n",
       "1662653630805002670                                   0.0   \n",
       "1667388264394057150                                   0.0   \n",
       "1666014310920836055                                   0.0   \n",
       "...                                                   ...   \n",
       "1662407034258674228                                   0.0   \n",
       "1665826640406257416                                   0.0   \n",
       "166680056086770561                                    0.0   \n",
       "1668189827160039838                                   0.0   \n",
       "1664369492837714356                                   0.0   \n",
       "\n",
       "                     https://www.hse.ru/edu/dpo/465317778  \\\n",
       "166826354536403284                                    0.0   \n",
       "1659090028176813185                                   0.0   \n",
       "1662653630805002670                                   0.0   \n",
       "1667388264394057150                                   0.0   \n",
       "1666014310920836055                                   0.0   \n",
       "...                                                   ...   \n",
       "1662407034258674228                                   0.0   \n",
       "1665826640406257416                                   0.0   \n",
       "166680056086770561                                    0.0   \n",
       "1668189827160039838                                   0.0   \n",
       "1664369492837714356                                   0.0   \n",
       "\n",
       "                     https://www.hse.ru/edu/dpo/446316061  \\\n",
       "166826354536403284                                    0.0   \n",
       "1659090028176813185                                   0.0   \n",
       "1662653630805002670                                   0.0   \n",
       "1667388264394057150                                   0.0   \n",
       "1666014310920836055                                   0.0   \n",
       "...                                                   ...   \n",
       "1662407034258674228                                   0.0   \n",
       "1665826640406257416                                   0.0   \n",
       "166680056086770561                                    0.0   \n",
       "1668189827160039838                                   0.0   \n",
       "1664369492837714356                                   0.0   \n",
       "\n",
       "                     https://www.hse.ru/edu/dpo/472498353  ...  \\\n",
       "166826354536403284                                    0.0  ...   \n",
       "1659090028176813185                                   0.0  ...   \n",
       "1662653630805002670                                   0.0  ...   \n",
       "1667388264394057150                                   0.0  ...   \n",
       "1666014310920836055                                   0.0  ...   \n",
       "...                                                   ...  ...   \n",
       "1662407034258674228                                   0.0  ...   \n",
       "1665826640406257416                                   0.0  ...   \n",
       "166680056086770561                                    0.0  ...   \n",
       "1668189827160039838                                   0.0  ...   \n",
       "1664369492837714356                                   0.0  ...   \n",
       "\n",
       "                     https://www.hse.ru/edu/dpo/789900533  \\\n",
       "166826354536403284                                    0.0   \n",
       "1659090028176813185                                   0.0   \n",
       "1662653630805002670                                   0.0   \n",
       "1667388264394057150                                   0.0   \n",
       "1666014310920836055                                   0.0   \n",
       "...                                                   ...   \n",
       "1662407034258674228                                   0.0   \n",
       "1665826640406257416                                   0.0   \n",
       "166680056086770561                                    0.0   \n",
       "1668189827160039838                                   0.0   \n",
       "1664369492837714356                                   0.0   \n",
       "\n",
       "                     https://www.hse.ru/edu/dpo/465487598  \\\n",
       "166826354536403284                                    0.0   \n",
       "1659090028176813185                                   0.0   \n",
       "1662653630805002670                                   0.0   \n",
       "1667388264394057150                                   0.0   \n",
       "1666014310920836055                                   0.0   \n",
       "...                                                   ...   \n",
       "1662407034258674228                                   0.0   \n",
       "1665826640406257416                                   0.0   \n",
       "166680056086770561                                    0.0   \n",
       "1668189827160039838                                   0.0   \n",
       "1664369492837714356                                   0.0   \n",
       "\n",
       "                     https://www.hse.ru/edu/dpo/773679259  \\\n",
       "166826354536403284                                    0.0   \n",
       "1659090028176813185                                   0.0   \n",
       "1662653630805002670                                   0.0   \n",
       "1667388264394057150                                   0.0   \n",
       "1666014310920836055                                   0.0   \n",
       "...                                                   ...   \n",
       "1662407034258674228                                   0.0   \n",
       "1665826640406257416                                   0.0   \n",
       "166680056086770561                                    0.0   \n",
       "1668189827160039838                                   0.0   \n",
       "1664369492837714356                                   0.0   \n",
       "\n",
       "                     https://www.hse.ru/edu/dpo/465488207  \\\n",
       "166826354536403284                                    0.0   \n",
       "1659090028176813185                                   0.0   \n",
       "1662653630805002670                                   0.0   \n",
       "1667388264394057150                                   0.0   \n",
       "1666014310920836055                                   0.0   \n",
       "...                                                   ...   \n",
       "1662407034258674228                                   0.0   \n",
       "1665826640406257416                                   0.0   \n",
       "166680056086770561                                    0.0   \n",
       "1668189827160039838                                   0.0   \n",
       "1664369492837714356                                   0.0   \n",
       "\n",
       "                     https://www.hse.ru/edu/dpo/793917085  \\\n",
       "166826354536403284                                    0.0   \n",
       "1659090028176813185                                   0.0   \n",
       "1662653630805002670                                   0.0   \n",
       "1667388264394057150                                   0.0   \n",
       "1666014310920836055                                   0.0   \n",
       "...                                                   ...   \n",
       "1662407034258674228                                   0.0   \n",
       "1665826640406257416                                   0.0   \n",
       "166680056086770561                                    0.0   \n",
       "1668189827160039838                                   0.0   \n",
       "1664369492837714356                                   0.0   \n",
       "\n",
       "                     https://www.hse.ru/edu/dpo/589486554  \\\n",
       "166826354536403284                                    0.0   \n",
       "1659090028176813185                                   0.0   \n",
       "1662653630805002670                                   0.0   \n",
       "1667388264394057150                                   0.0   \n",
       "1666014310920836055                                   0.0   \n",
       "...                                                   ...   \n",
       "1662407034258674228                                   0.0   \n",
       "1665826640406257416                                   0.0   \n",
       "166680056086770561                                    0.0   \n",
       "1668189827160039838                                   0.0   \n",
       "1664369492837714356                                   0.0   \n",
       "\n",
       "                     https://www.hse.ru/edu/dpo/796311892  \\\n",
       "166826354536403284                                    0.0   \n",
       "1659090028176813185                                   0.0   \n",
       "1662653630805002670                                   0.0   \n",
       "1667388264394057150                                   0.0   \n",
       "1666014310920836055                                   0.0   \n",
       "...                                                   ...   \n",
       "1662407034258674228                                   0.0   \n",
       "1665826640406257416                                   0.0   \n",
       "166680056086770561                                    0.0   \n",
       "1668189827160039838                                   0.0   \n",
       "1664369492837714356                                   0.0   \n",
       "\n",
       "                     https://www.hse.ru/edu/dpo/795955343  \\\n",
       "166826354536403284                                    0.0   \n",
       "1659090028176813185                                   0.0   \n",
       "1662653630805002670                                   0.0   \n",
       "1667388264394057150                                   0.0   \n",
       "1666014310920836055                                   0.0   \n",
       "...                                                   ...   \n",
       "1662407034258674228                                   0.0   \n",
       "1665826640406257416                                   0.0   \n",
       "166680056086770561                                    0.0   \n",
       "1668189827160039838                                   0.0   \n",
       "1664369492837714356                                   0.0   \n",
       "\n",
       "                     https://www.hse.ru/edu/dpo/795955345  \\\n",
       "166826354536403284                                    0.0   \n",
       "1659090028176813185                                   0.0   \n",
       "1662653630805002670                                   0.0   \n",
       "1667388264394057150                                   0.0   \n",
       "1666014310920836055                                   0.0   \n",
       "...                                                   ...   \n",
       "1662407034258674228                                   0.0   \n",
       "1665826640406257416                                   0.0   \n",
       "166680056086770561                                    0.0   \n",
       "1668189827160039838                                   0.0   \n",
       "1664369492837714356                                   0.0   \n",
       "\n",
       "                     https://www.hse.ru/edu/dpo/797392978  \n",
       "166826354536403284                                    0.0  \n",
       "1659090028176813185                                   0.0  \n",
       "1662653630805002670                                   0.0  \n",
       "1667388264394057150                                   0.0  \n",
       "1666014310920836055                                   0.0  \n",
       "...                                                   ...  \n",
       "1662407034258674228                                   0.0  \n",
       "1665826640406257416                                   0.0  \n",
       "166680056086770561                                    0.0  \n",
       "1668189827160039838                                   0.0  \n",
       "1664369492837714356                                   0.0  \n",
       "\n",
       "[166890 rows x 570 columns]"
      ]
     },
     "execution_count": 26,
     "metadata": {},
     "output_type": "execute_result"
    }
   ],
   "source": [
    "interactions = interactions.loc[(interactions!=0).any(axis=1)]\n",
    "interactions"
   ]
  },
  {
   "cell_type": "code",
   "execution_count": null,
   "metadata": {},
   "outputs": [
    {
     "data": {
      "text/plain": [
       "0.0027214479965267592"
      ]
     },
     "execution_count": 27,
     "metadata": {},
     "output_type": "execute_result"
    }
   ],
   "source": [
    "interactions.apply(lambda x: x != 0).sum().sum() / (interactions.shape[0] * interactions.shape[1])"
   ]
  },
  {
   "cell_type": "code",
   "execution_count": null,
   "metadata": {},
   "outputs": [],
   "source": [
    "interactions.to_csv('interactions_matrix.csv')"
   ]
  }
 ],
 "metadata": {
  "kernelspec": {
   "display_name": "base",
   "language": "python",
   "name": "python3"
  },
  "language_info": {
   "codemirror_mode": {
    "name": "ipython",
    "version": 3
   },
   "file_extension": ".py",
   "mimetype": "text/x-python",
   "name": "python",
   "nbconvert_exporter": "python",
   "pygments_lexer": "ipython3",
   "version": "3.10.12"
  },
  "orig_nbformat": 4,
  "vscode": {
   "interpreter": {
    "hash": "709a940868d52b5e8c89f83b75127a055e05746687d7a40083e4386bdb7c4944"
   }
  }
 },
 "nbformat": 4,
 "nbformat_minor": 2
}
