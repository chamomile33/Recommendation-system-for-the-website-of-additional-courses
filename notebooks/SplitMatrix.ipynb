{
 "cells": [
  {
   "cell_type": "code",
   "execution_count": 197,
   "metadata": {},
   "outputs": [],
   "source": [
    "import pandas as pd\n",
    "import numpy as np\n",
    "from tqdm.auto import tqdm\n",
    "\n",
    "interactions = pd.read_csv('./interactions_matrix.csv', index_col=0)\n",
    "tqdm.pandas(desc='Proccessing_rows')"
   ]
  },
  {
   "cell_type": "code",
   "execution_count": 198,
   "metadata": {},
   "outputs": [],
   "source": [
    "user_to_split_type = dict()\n",
    "\n",
    "for indx in interactions.index:\n",
    "    user_to_split_type[indx] = 0"
   ]
  },
  {
   "cell_type": "code",
   "execution_count": 199,
   "metadata": {},
   "outputs": [
    {
     "data": {
      "text/plain": [
       "0.2949580185867689"
      ]
     },
     "execution_count": 199,
     "metadata": {},
     "output_type": "execute_result"
    }
   ],
   "source": [
    "sum_data = interactions.sum(axis=1)\n",
    "sum_quant80 = sum_data.quantile(.75)\n",
    "for indx, value in sum_data.items():\n",
    "    if value >= sum_quant80:\n",
    "        user_to_split_type[indx] = user_to_split_type[indx] + 1\n",
    "sum_quant80"
   ]
  },
  {
   "cell_type": "code",
   "execution_count": 200,
   "metadata": {},
   "outputs": [
    {
     "data": {
      "text/plain": [
       "3.0"
      ]
     },
     "execution_count": 200,
     "metadata": {},
     "output_type": "execute_result"
    }
   ],
   "source": [
    "density_data = interactions.transform(lambda x: x != 0).sum(axis=1)\n",
    "density_quant90 = density_data.quantile(.90)\n",
    "for indx, value in density_data.items():\n",
    "    if value >= density_quant90:\n",
    "        user_to_split_type[indx] = user_to_split_type[indx] + 2\n",
    "density_quant90"
   ]
  },
  {
   "cell_type": "code",
   "execution_count": 201,
   "metadata": {},
   "outputs": [
    {
     "data": {
      "text/plain": [
       "0.2375978824543532"
      ]
     },
     "execution_count": 201,
     "metadata": {},
     "output_type": "execute_result"
    }
   ],
   "source": [
    "mean_data = interactions.sum(axis=1)\n",
    "for indx, value in mean_data.items():\n",
    "    mean_data.loc[indx] = value / density_data.loc[indx]\n",
    "\n",
    "mean_quant75 = mean_data.quantile(.75)\n",
    "for indx, value in mean_data.items():\n",
    "    if value >= mean_quant75:\n",
    "        user_to_split_type[indx] = user_to_split_type[indx] + 4\n",
    "mean_quant75"
   ]
  },
  {
   "cell_type": "code",
   "execution_count": 202,
   "metadata": {},
   "outputs": [
    {
     "data": {
      "text/plain": [
       "0.2949580185867689"
      ]
     },
     "execution_count": 202,
     "metadata": {},
     "output_type": "execute_result"
    }
   ],
   "source": [
    "max_data = interactions.max(axis=1)\n",
    "max_quant90 = max_data.quantile(.90)\n",
    "for indx, value in max_data.items():\n",
    "    if value >= max_quant90:\n",
    "        user_to_split_type[indx] = user_to_split_type[indx] + 8\n",
    "max_quant90"
   ]
  },
  {
   "cell_type": "code",
   "execution_count": 203,
   "metadata": {},
   "outputs": [
    {
     "data": {
      "text/plain": [
       "0     105917\n",
       "4      18569\n",
       "13     11691\n",
       "1       9813\n",
       "3       9150\n",
       "15      5147\n",
       "5       3596\n",
       "7       2746\n",
       "11       245\n",
       "9         10\n",
       "2          6\n",
       "dtype: int64"
      ]
     },
     "execution_count": 203,
     "metadata": {},
     "output_type": "execute_result"
    }
   ],
   "source": [
    "df = pd.DataFrame.from_dict(user_to_split_type, orient='index')\n",
    "df.value_counts()"
   ]
  },
  {
   "cell_type": "code",
   "execution_count": 204,
   "metadata": {},
   "outputs": [],
   "source": [
    "df.to_csv('./user_to_split_type.csv')"
   ]
  }
 ],
 "metadata": {
  "kernelspec": {
   "display_name": "base",
   "language": "python",
   "name": "python3"
  },
  "language_info": {
   "codemirror_mode": {
    "name": "ipython",
    "version": 3
   },
   "file_extension": ".py",
   "mimetype": "text/x-python",
   "name": "python",
   "nbconvert_exporter": "python",
   "pygments_lexer": "ipython3",
   "version": "3.9.13"
  },
  "orig_nbformat": 4,
  "vscode": {
   "interpreter": {
    "hash": "709a940868d52b5e8c89f83b75127a055e05746687d7a40083e4386bdb7c4944"
   }
  }
 },
 "nbformat": 4,
 "nbformat_minor": 2
}
